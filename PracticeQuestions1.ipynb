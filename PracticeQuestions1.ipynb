{
  "nbformat": 4,
  "nbformat_minor": 0,
  "metadata": {
    "colab": {
      "provenance": [],
      "authorship_tag": "ABX9TyMkuiXS7aUpbmVhekS2icS7",
      "include_colab_link": true
    },
    "kernelspec": {
      "name": "python3",
      "display_name": "Python 3"
    },
    "language_info": {
      "name": "python"
    }
  },
  "cells": [
    {
      "cell_type": "markdown",
      "metadata": {
        "id": "view-in-github",
        "colab_type": "text"
      },
      "source": [
        "<a href=\"https://colab.research.google.com/github/JYOTHY-DAS/Python-Learning-Journey/blob/practice_Questions/PracticeQuestions1.ipynb\" target=\"_parent\"><img src=\"https://colab.research.google.com/assets/colab-badge.svg\" alt=\"Open In Colab\"/></a>"
      ]
    },
    {
      "cell_type": "markdown",
      "source": [
        "# Practice Questions:"
      ],
      "metadata": {
        "id": "6ck9HjAqIAs8"
      }
    },
    {
      "cell_type": "markdown",
      "source": [
        "# Q1) Write program to compute L2 norm or magnitude of a numeric vector."
      ],
      "metadata": {
        "id": "NMt5-Tm0H0PD"
      }
    },
    {
      "cell_type": "markdown",
      "source": [
        "## Method 1"
      ],
      "metadata": {
        "id": "hMhM8UiZI8Kw"
      }
    },
    {
      "cell_type": "code",
      "source": [
        "import math\n",
        "x1=int(input(\"Enter x1:\"))\n",
        "x2=int(input(\"Enter x2:\"))\n",
        "x3=int(input(\"Enter x3:\"))\n",
        "norm= math.sqrt(x1**2 + x2**2 + x3**2)\n",
        "print(norm)"
      ],
      "metadata": {
        "id": "vqFA6UHGqiUv",
        "colab": {
          "base_uri": "https://localhost:8080/"
        },
        "outputId": "f7c3c59e-5210-4ddf-fd9f-9771e5897076"
      },
      "execution_count": 4,
      "outputs": [
        {
          "output_type": "stream",
          "name": "stdout",
          "text": [
            "Enter x1:1\n",
            "Enter x2:2\n",
            "Enter x3:3\n",
            "3.7416573867739413\n"
          ]
        }
      ]
    },
    {
      "cell_type": "code",
      "source": [],
      "metadata": {
        "id": "VczkYXQ9I41u"
      },
      "execution_count": null,
      "outputs": []
    },
    {
      "cell_type": "code",
      "source": [],
      "metadata": {
        "id": "8YHKQq1jIwJZ"
      },
      "execution_count": null,
      "outputs": []
    }
  ]
}