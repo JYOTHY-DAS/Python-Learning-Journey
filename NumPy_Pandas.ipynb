{
 "cells": [
  {
   "cell_type": "markdown",
   "id": "9481cf5e-0f4e-48d9-a209-f87d64fe24db",
   "metadata": {},
   "source": [
    "# NumPy"
   ]
  },
  {
   "cell_type": "code",
   "execution_count": 324,
   "id": "a502948d-1b02-43ee-b51a-935495d2788d",
   "metadata": {},
   "outputs": [],
   "source": [
    "import numpy as np"
   ]
  },
  {
   "cell_type": "code",
   "execution_count": 325,
   "id": "b3058c5e-46f5-4fb7-8f9e-9cff30de5b39",
   "metadata": {},
   "outputs": [
    {
     "name": "stdout",
     "output_type": "stream",
     "text": [
      "[1 2 3 4 5 6]\n",
      "[5 2 8 4 7 9]\n"
     ]
    }
   ],
   "source": [
    "my_List1= [1,2,3,4,5,6]\n",
    "my_List2= [5,2,8,4,7,9]\n",
    "array1= np.array(my_List1)\n",
    "array2= np.array(my_List2)\n",
    "print(array1)\n",
    "print(array2)"
   ]
  },
  {
   "cell_type": "markdown",
   "id": "9fb48682-ecfa-4157-8430-6c9cb7fa38bb",
   "metadata": {},
   "source": [
    "### For NumPy arrays (having compatible shapes and data types), the '+' operator can perform element-wise addition."
   ]
  },
  {
   "cell_type": "code",
   "execution_count": 326,
   "id": "a3cc49ec-7783-4e94-a5f6-3eac3737f46a",
   "metadata": {},
   "outputs": [
    {
     "name": "stdout",
     "output_type": "stream",
     "text": [
      "[ 6  4 11  8 12 15]\n"
     ]
    }
   ],
   "source": [
    "print(array1+array2) "
   ]
  },
  {
   "cell_type": "markdown",
   "id": "cbe20d4e-f2ef-41a8-927b-a2795280c0ad",
   "metadata": {},
   "source": [
    "### Element-wise scalar addition"
   ]
  },
  {
   "cell_type": "code",
   "execution_count": 327,
   "id": "6d7d3ad3-6e00-4e19-9991-288e92fa2ea5",
   "metadata": {},
   "outputs": [
    {
     "name": "stdout",
     "output_type": "stream",
     "text": [
      "[11 12 13 14 15 16]\n"
     ]
    }
   ],
   "source": [
    "print(array1+10)"
   ]
  },
  {
   "cell_type": "markdown",
   "id": "3d66b181-305c-41ec-baa0-1cc9f122a964",
   "metadata": {},
   "source": [
    "### To get the dimension of array"
   ]
  },
  {
   "cell_type": "code",
   "execution_count": 328,
   "id": "1d4f4093-43b7-4cbb-ae9d-85818b377e81",
   "metadata": {},
   "outputs": [
    {
     "data": {
      "text/plain": [
       "1"
      ]
     },
     "execution_count": 328,
     "metadata": {},
     "output_type": "execute_result"
    }
   ],
   "source": [
    "array1.ndim # Dimension"
   ]
  },
  {
   "cell_type": "code",
   "execution_count": 329,
   "id": "63e6acdd-440c-475b-af4c-026482c5293a",
   "metadata": {},
   "outputs": [
    {
     "name": "stdout",
     "output_type": "stream",
     "text": [
      "1\n",
      "2\n",
      "3\n"
     ]
    }
   ],
   "source": [
    "import numpy as np\n",
    "\n",
    "# 1-dimensional array\n",
    "array1 = np.array([1, 2, 3])\n",
    "print(array1.ndim)  # Output: 1\n",
    "\n",
    "# 2-dimensional array\n",
    "array2 = np.array([[1, 2], [3, 4]])\n",
    "print(array2.ndim)  # Output: 2\n",
    "\n",
    "# 3-dimensional array\n",
    "array3 = np.array([[[1, 2], [3, 4]], [[5, 6], [7, 8]]])\n",
    "print(array3.ndim)  # Output: 3"
   ]
  },
  {
   "cell_type": "markdown",
   "id": "afc1c7a7",
   "metadata": {},
   "source": [
    "## 'shape' returns a tuple with each index having the number of corresponding elements."
   ]
  },
  {
   "cell_type": "code",
   "execution_count": 330,
   "id": "9ce4be71-b7f4-43d6-89c4-68c91bc3880c",
   "metadata": {},
   "outputs": [
    {
     "data": {
      "text/plain": [
       "(6,)"
      ]
     },
     "execution_count": 330,
     "metadata": {},
     "output_type": "execute_result"
    }
   ],
   "source": [
    "import numpy as np\n",
    "my_List1= [1,2,3,4,5,6]\n",
    "array1= np.array(my_List1)\n",
    "array1.shape "
   ]
  },
  {
   "cell_type": "code",
   "execution_count": 331,
   "id": "e691d7fe",
   "metadata": {},
   "outputs": [
    {
     "name": "stdout",
     "output_type": "stream",
     "text": [
      "(2, 4)\n"
     ]
    }
   ],
   "source": [
    "import numpy as np\n",
    "\n",
    "arr = np.array([[1, 2, 3, 4], [5, 6, 7, 8]])\n",
    "\n",
    "print(arr.shape) # Here shape returns (2, 4), which means that the array has 2 dimensions, where the first dimension has 2 elements and the second has 4."
   ]
  },
  {
   "cell_type": "markdown",
   "id": "9811cd5c",
   "metadata": {},
   "source": [
    "## Data type"
   ]
  },
  {
   "cell_type": "code",
   "execution_count": 332,
   "id": "799a42c1-db2a-429c-b1bd-29d1f8c5be29",
   "metadata": {},
   "outputs": [
    {
     "data": {
      "text/plain": [
       "dtype('int64')"
      ]
     },
     "execution_count": 332,
     "metadata": {},
     "output_type": "execute_result"
    }
   ],
   "source": [
    "array1.dtype #Data type"
   ]
  },
  {
   "cell_type": "code",
   "execution_count": 333,
   "id": "79eb553b-2368-47a8-8c18-c022e9f726b1",
   "metadata": {},
   "outputs": [
    {
     "data": {
      "text/plain": [
       "array(['1', '3', '5', '7', 'a'], dtype='<U21')"
      ]
     },
     "execution_count": 333,
     "metadata": {},
     "output_type": "execute_result"
    }
   ],
   "source": [
    "array3=np.array([1,3,5,7,'a']) # Different data types in an array\n",
    "array3"
   ]
  },
  {
   "cell_type": "markdown",
   "id": "8b5a304c",
   "metadata": {},
   "source": [
    "### Syntax: numpy.size(arr, axis=None)\n",
    "#### By default, it gives the total number of elements in an array. Here it is 3*3=9\n",
    "#### axis (x,y,z: along which the elements(rows or columns) are counted)  is an integer value and it is optional.\n",
    "\n",
    "\n",
    " "
   ]
  },
  {
   "cell_type": "code",
   "execution_count": 334,
   "id": "4f2750f0-1761-4e10-865c-99e96c1ed3a6",
   "metadata": {},
   "outputs": [
    {
     "name": "stdout",
     "output_type": "stream",
     "text": [
      "2\n",
      "(3, 3)\n",
      "int64\n",
      "9\n"
     ]
    }
   ],
   "source": [
    "array4= np.array([[1,2,3],[4,6,7],[2,8,9]])\n",
    "print(array4.ndim) # Dimension\n",
    "print(array4.shape) # Number of rows or column\n",
    "print(array4.dtype) #Data type\n",
    "print(array4.size)"
   ]
  },
  {
   "cell_type": "code",
   "execution_count": 335,
   "id": "c2c7b56c-0b74-4e6b-8cfd-c9f58c96a67d",
   "metadata": {},
   "outputs": [
    {
     "name": "stdout",
     "output_type": "stream",
     "text": [
      "2\n",
      "(2, 2)\n"
     ]
    }
   ],
   "source": [
    "array5= np.array([[1,2],[3,4]])\n",
    "print(array5.ndim) # Dimension\n",
    "print(array5.shape) "
   ]
  },
  {
   "cell_type": "markdown",
   "id": "ceeab012",
   "metadata": {},
   "source": [
    "### List Vs Array\n",
    "#### List: Heterogeneous, dynamic (size can change during run time)\n",
    "#### Array: Homogeneous (Elements are of same data type), fixed (size defined at creation)- hence faster for numerical operations"
   ]
  },
  {
   "cell_type": "code",
   "execution_count": 336,
   "id": "5ef256c8-c281-42db-8b18-8dea85db1c2b",
   "metadata": {},
   "outputs": [
    {
     "name": "stdout",
     "output_type": "stream",
     "text": [
      "[5, 6, 7, 8, 9]\n",
      "[5 6 7 8 9]\n"
     ]
    }
   ],
   "source": [
    "a=list(range(5,10))\n",
    "print(a) # There is comma to separate values\n",
    "array6=np.array(a)\n",
    "print(array6) # There are no commas to separate values"
   ]
  },
  {
   "cell_type": "markdown",
   "id": "c909cadd",
   "metadata": {},
   "source": [
    "## Print values within a range"
   ]
  },
  {
   "cell_type": "code",
   "execution_count": 337,
   "id": "8a4a2256-1ec4-4d74-a0dc-060ee88402d6",
   "metadata": {},
   "outputs": [
    {
     "name": "stdout",
     "output_type": "stream",
     "text": [
      "[ 1  2  3  4  5  6  7  8  9 10 11 12 13 14 15 16 17 18 19 20 21 22 23 24\n",
      " 25 26 27 28 29 30 31 32 33 34 35 36 37 38 39 40 41 42 43 44 45 46 47 48\n",
      " 49 50 51 52 53 54 55 56 57 58 59 60 61 62 63 64 65 66 67 68 69 70 71 72\n",
      " 73 74 75 76 77 78 79 80 81 82 83 84 85 86 87 88 89 90 91 92 93 94 95 96\n",
      " 97 98 99]\n"
     ]
    }
   ],
   "source": [
    "print(np.arange(1,100))"
   ]
  },
  {
   "cell_type": "code",
   "execution_count": 338,
   "id": "d74efae9-9d01-48da-a3f8-f5730e5fdf24",
   "metadata": {},
   "outputs": [
    {
     "name": "stdout",
     "output_type": "stream",
     "text": [
      "[10 20 30 40 50 60 70 80 90]\n"
     ]
    }
   ],
   "source": [
    "print(np.arange(10,100,10)) # Syntax: np.arange(start, stop, step)"
   ]
  },
  {
   "cell_type": "code",
   "execution_count": 339,
   "id": "dbe2e0ef-841e-492f-a837-fc3d1c87ba48",
   "metadata": {},
   "outputs": [
    {
     "name": "stdout",
     "output_type": "stream",
     "text": [
      "[100  90  80  70  60  50  40  30  20  10]\n"
     ]
    }
   ],
   "source": [
    "print(np.arange(100,0,-10))"
   ]
  },
  {
   "cell_type": "markdown",
   "id": "3f9344d3",
   "metadata": {},
   "source": [
    "## Reshape the array without changing the number of elements\n"
   ]
  },
  {
   "cell_type": "code",
   "execution_count": 340,
   "id": "c6e8a7fe-e242-4932-ab5a-414bf551c212",
   "metadata": {},
   "outputs": [
    {
     "name": "stdout",
     "output_type": "stream",
     "text": [
      "[1 2 3 4 5 6]\n"
     ]
    },
    {
     "data": {
      "text/plain": [
       "array([[1, 2, 3],\n",
       "       [4, 5, 6]])"
      ]
     },
     "execution_count": 340,
     "metadata": {},
     "output_type": "execute_result"
    }
   ],
   "source": [
    "array7=np.array([1,2,3,4,5,6]) #array7 is a 1-dimensional array with 6 elements.\n",
    "print(array7)\n",
    "array7.reshape(2,3) #Reshapes array7 into 2 rows and 3 columns. (Row*Column should be equal to number of elements of array7)"
   ]
  },
  {
   "cell_type": "code",
   "execution_count": 341,
   "id": "643cedee-0603-4a62-9cdd-6a34e57e5954",
   "metadata": {},
   "outputs": [
    {
     "name": "stdout",
     "output_type": "stream",
     "text": [
      "[  1   2   3   4   5   6   7   8   9  10  11  12  13  14  15  16  17  18\n",
      "  19  20  21  22  23  24  25  26  27  28  29  30  31  32  33  34  35  36\n",
      "  37  38  39  40  41  42  43  44  45  46  47  48  49  50  51  52  53  54\n",
      "  55  56  57  58  59  60  61  62  63  64  65  66  67  68  69  70  71  72\n",
      "  73  74  75  76  77  78  79  80  81  82  83  84  85  86  87  88  89  90\n",
      "  91  92  93  94  95  96  97  98  99 100]\n"
     ]
    },
    {
     "data": {
      "text/plain": [
       "array([[  1,   2,   3,   4,   5,   6,   7,   8,   9,  10],\n",
       "       [ 11,  12,  13,  14,  15,  16,  17,  18,  19,  20],\n",
       "       [ 21,  22,  23,  24,  25,  26,  27,  28,  29,  30],\n",
       "       [ 31,  32,  33,  34,  35,  36,  37,  38,  39,  40],\n",
       "       [ 41,  42,  43,  44,  45,  46,  47,  48,  49,  50],\n",
       "       [ 51,  52,  53,  54,  55,  56,  57,  58,  59,  60],\n",
       "       [ 61,  62,  63,  64,  65,  66,  67,  68,  69,  70],\n",
       "       [ 71,  72,  73,  74,  75,  76,  77,  78,  79,  80],\n",
       "       [ 81,  82,  83,  84,  85,  86,  87,  88,  89,  90],\n",
       "       [ 91,  92,  93,  94,  95,  96,  97,  98,  99, 100]])"
      ]
     },
     "execution_count": 341,
     "metadata": {},
     "output_type": "execute_result"
    }
   ],
   "source": [
    "array8=np.arange(1,101)\n",
    "print(array8)\n",
    "array8.reshape(10,10)"
   ]
  },
  {
   "cell_type": "markdown",
   "id": "091af7cf-9288-42d4-b624-6781996767a5",
   "metadata": {},
   "source": [
    "## Calculating the time required for operations in Python and Numpy"
   ]
  },
  {
   "cell_type": "code",
   "execution_count": 342,
   "id": "078d8083-0b41-4326-85f7-9b0364d0a5b6",
   "metadata": {},
   "outputs": [
    {
     "name": "stdout",
     "output_type": "stream",
     "text": [
      "85.9 μs ± 4.86 μs per loop (mean ± std. dev. of 7 runs, 10,000 loops each)\n"
     ]
    }
   ],
   "source": [
    "L=range(1000)\n",
    "%timeit num=[i**2 for i in L] # Calculating time required for operation"
   ]
  },
  {
   "cell_type": "code",
   "execution_count": 343,
   "id": "a050b89b-3c38-493a-a23d-9398ac70e062",
   "metadata": {},
   "outputs": [
    {
     "name": "stdout",
     "output_type": "stream",
     "text": [
      "1.2 μs ± 27.1 ns per loop (mean ± std. dev. of 7 runs, 1,000,000 loops each)\n"
     ]
    }
   ],
   "source": [
    "nums=np.arange(1000) \n",
    "%timeit nums**2"
   ]
  },
  {
   "cell_type": "markdown",
   "id": "c9e1857c",
   "metadata": {},
   "source": [
    "## Creating matrices"
   ]
  },
  {
   "cell_type": "code",
   "execution_count": 344,
   "id": "48922c4c-5e39-4227-8cf1-4146b5ef90d5",
   "metadata": {},
   "outputs": [
    {
     "data": {
      "text/plain": [
       "array([[1., 1., 1.],\n",
       "       [1., 1., 1.],\n",
       "       [1., 1., 1.]])"
      ]
     },
     "execution_count": 344,
     "metadata": {},
     "output_type": "execute_result"
    }
   ],
   "source": [
    "np.ones((3,3)) # Array of ones"
   ]
  },
  {
   "cell_type": "code",
   "execution_count": 345,
   "id": "35643bfb-6110-4d9a-9d99-7a34c6561f73",
   "metadata": {},
   "outputs": [
    {
     "data": {
      "text/plain": [
       "array([[1., 0., 0.],\n",
       "       [0., 1., 0.],\n",
       "       [0., 0., 1.]])"
      ]
     },
     "execution_count": 345,
     "metadata": {},
     "output_type": "execute_result"
    }
   ],
   "source": [
    "np.eye(3) # Identity matrix"
   ]
  },
  {
   "cell_type": "code",
   "execution_count": 346,
   "id": "ccc419e5-6b09-419b-b64a-3371f1f48b2d",
   "metadata": {},
   "outputs": [
    {
     "data": {
      "text/plain": [
       "array([[1, 0, 0, 0],\n",
       "       [0, 2, 0, 0],\n",
       "       [0, 0, 3, 0],\n",
       "       [0, 0, 0, 4]])"
      ]
     },
     "execution_count": 346,
     "metadata": {},
     "output_type": "execute_result"
    }
   ],
   "source": [
    "np.diag([1,2,3,4])"
   ]
  },
  {
   "cell_type": "markdown",
   "id": "2b0ea2c2-293e-435e-98a8-87bc37fae1e0",
   "metadata": {},
   "source": [
    "## Write code for standard deviation"
   ]
  },
  {
   "cell_type": "markdown",
   "id": "459a5614",
   "metadata": {},
   "source": [
    "## Method 1:"
   ]
  },
  {
   "cell_type": "code",
   "execution_count": 347,
   "id": "f3f489bb",
   "metadata": {},
   "outputs": [
    {
     "name": "stdout",
     "output_type": "stream",
     "text": [
      "6.922186552431729\n"
     ]
    }
   ],
   "source": [
    "x=np.array(range(1,25))\n",
    "print(np. std(x))"
   ]
  },
  {
   "cell_type": "markdown",
   "id": "39a12cde",
   "metadata": {},
   "source": [
    "### Method 2: Wrong answer; Correct later"
   ]
  },
  {
   "cell_type": "code",
   "execution_count": 349,
   "id": "5aca7f19-bfe4-46ea-b4ff-fda6f88c638a",
   "metadata": {},
   "outputs": [
    {
     "ename": "IndentationError",
     "evalue": "unindent does not match any outer indentation level (<string>, line 12)",
     "output_type": "error",
     "traceback": [
      "\u001b[1;36m  File \u001b[1;32m<string>:12\u001b[1;36m\u001b[0m\n\u001b[1;33m    print(\"Standard deviation:\",std_Dev)\u001b[0m\n\u001b[1;37m                                        ^\u001b[0m\n\u001b[1;31mIndentationError\u001b[0m\u001b[1;31m:\u001b[0m unindent does not match any outer indentation level\n"
     ]
    }
   ],
   "source": [
    "import numpy as np\n",
    "def std_Deviation(Data):\n",
    "    avg = np.mean(Data)\n",
    "    print(\"Mean of data:\", avg)\n",
    "    for i in Data:\n",
    "        Dev=0\n",
    "        diff= Data-avg\n",
    "        Dev=Dev+diff\n",
    "    print(Dev)\n",
    "    std_Dev= np.sqrt(sum(Dev**2)/len(Data))\n",
    "    return std_Dev\n",
    " print(\"Standard deviation:\",std_Dev)\n",
    " \n",
    "x=np.array(range(1,25))\n",
    "std_Deviation(x)"
   ]
  },
  {
   "cell_type": "markdown",
   "id": "0b811ec7",
   "metadata": {},
   "source": [
    "## np.diag: \n",
    "### 2 primary uses\n",
    "#### -When you pass a 1D array to np.diag(), it creates a 2D square matrix with the elements of the input array on its main diagonal.\n",
    "#### -When you pass a 2D array to np.diag(), it extracts the diagonal elements of that matrix.\n"
   ]
  },
  {
   "cell_type": "code",
   "execution_count": null,
   "id": "99963b6d-9821-4e14-8dfb-4dfbe1740a20",
   "metadata": {},
   "outputs": [
    {
     "data": {
      "text/plain": [
       "array([1, 2, 3, 4])"
      ]
     },
     "execution_count": 250,
     "metadata": {},
     "output_type": "execute_result"
    }
   ],
   "source": [
    "z=np.diag([1,2,3,4])\n",
    "np.diag(z)"
   ]
  },
  {
   "cell_type": "code",
   "execution_count": null,
   "id": "ccc41050",
   "metadata": {},
   "outputs": [
    {
     "data": {
      "text/plain": [
       "array([[1, 0, 0],\n",
       "       [0, 2, 0],\n",
       "       [0, 0, 3]])"
      ]
     },
     "execution_count": 251,
     "metadata": {},
     "output_type": "execute_result"
    }
   ],
   "source": [
    "z=np.diag([[1,10,56],[15,2,71],[81,49,3]])\n",
    "np.diag(z)"
   ]
  },
  {
   "cell_type": "markdown",
   "id": "897dc4f9",
   "metadata": {},
   "source": [
    "##  Random number generation module \n",
    "### Generates 1-D array containing three random floating-point numbers. These numbers are uniformly distributed between 0 (inclusive) and 1 (exclusive).\n",
    "### The numbers are uniformly distributed, meaning that any number within the range [0, 1) is equally likely to occur.\n",
    "### The values in the array will change each time you run the code.\n",
    "### This function is often used in various applications, such as:\n",
    "##### Generating random data for testing and simulations.\n",
    "##### Initializing weights in neural networks.\n",
    "##### Creating random samples for statistical analysis."
   ]
  },
  {
   "cell_type": "code",
   "execution_count": null,
   "id": "923cbce6-59e5-4404-b8eb-4a311bc1e664",
   "metadata": {},
   "outputs": [
    {
     "data": {
      "text/plain": [
       "array([0.62781754, 0.64385371, 0.09453855])"
      ]
     },
     "execution_count": 252,
     "metadata": {},
     "output_type": "execute_result"
    }
   ],
   "source": [
    "d=np.random.random(3)\n",
    "d"
   ]
  },
  {
   "cell_type": "code",
   "execution_count": null,
   "id": "e95e5671-34e6-4a32-81ff-f68b71bc5708",
   "metadata": {},
   "outputs": [
    {
     "data": {
      "text/plain": [
       "array([-0.57309684,  0.04928236,  0.500908  , -0.48640371])"
      ]
     },
     "execution_count": 253,
     "metadata": {},
     "output_type": "execute_result"
    }
   ],
   "source": [
    "np.random.randn(4) #Increase the number to get Normal distribution."
   ]
  },
  {
   "cell_type": "code",
   "execution_count": null,
   "id": "bf521108-9484-4060-99a3-f05503875c1d",
   "metadata": {},
   "outputs": [
    {
     "data": {
      "text/plain": [
       "array([ 7, 17,  0], dtype=int32)"
      ]
     },
     "execution_count": 254,
     "metadata": {},
     "output_type": "execute_result"
    }
   ],
   "source": [
    "# 0: The lower bound (inclusive).\n",
    "#20: The upper bound (exclusive).\n",
    "#3: The number of random integers to generate.\n",
    "np.random.randint(0,20,3) "
   ]
  },
  {
   "cell_type": "markdown",
   "id": "8549a72f",
   "metadata": {},
   "source": [
    "## Data type"
   ]
  },
  {
   "cell_type": "code",
   "execution_count": null,
   "id": "c9d669f8-3c58-4259-8976-58728054804a",
   "metadata": {},
   "outputs": [
    {
     "data": {
      "text/plain": [
       "dtype('int64')"
      ]
     },
     "execution_count": 255,
     "metadata": {},
     "output_type": "execute_result"
    }
   ],
   "source": [
    "a=np.arange(10)\n",
    "a.dtype"
   ]
  },
  {
   "cell_type": "code",
   "execution_count": null,
   "id": "603b1771-4904-4d0e-b33e-de4392fbcd44",
   "metadata": {},
   "outputs": [
    {
     "data": {
      "text/plain": [
       "dtype('float64')"
      ]
     },
     "execution_count": 256,
     "metadata": {},
     "output_type": "execute_result"
    }
   ],
   "source": [
    "a=np.arange(10, dtype=np.float64)\n",
    "a.dtype"
   ]
  },
  {
   "cell_type": "code",
   "execution_count": null,
   "id": "bfcd5894-a511-4c8e-8016-1814a3709ec6",
   "metadata": {},
   "outputs": [
    {
     "name": "stdout",
     "output_type": "stream",
     "text": [
      "complex128\n",
      "bool\n"
     ]
    }
   ],
   "source": [
    "a1= np.array([1+3j])\n",
    "print(a1.dtype)\n",
    "a2=np.array([True, False, True])\n",
    "print(a2.dtype)"
   ]
  },
  {
   "cell_type": "code",
   "execution_count": null,
   "id": "fefa0d95-0f3c-469a-a755-b6b128f2bbcd",
   "metadata": {},
   "outputs": [
    {
     "name": "stdout",
     "output_type": "stream",
     "text": [
      "<U5\n"
     ]
    },
    {
     "data": {
      "text/plain": [
       "np.int64(3)"
      ]
     },
     "execution_count": 258,
     "metadata": {},
     "output_type": "execute_result"
    }
   ],
   "source": [
    "a3=np.array([\"True\",\"False\"]) #creates an array of strings.\n",
    "print(a3.dtype) # op <U5 elements are Unicode strings with a maximum length of 5 characters.\n",
    "a=np.arange(10) #creates an array of integers.\n",
    "a\n",
    "a[3]"
   ]
  },
  {
   "cell_type": "markdown",
   "id": "ad329bb8",
   "metadata": {},
   "source": [
    "# Slicing and reversing"
   ]
  },
  {
   "cell_type": "code",
   "execution_count": null,
   "id": "9f46302c-fd7b-46cc-a589-60be8af771b6",
   "metadata": {},
   "outputs": [
    {
     "data": {
      "text/plain": [
       "array([0, 2, 4, 6, 8])"
      ]
     },
     "execution_count": 259,
     "metadata": {},
     "output_type": "execute_result"
    }
   ],
   "source": [
    "a=np.arange(10)\n",
    "b=a[::2] #Create array: start,stop,step\n",
    "b"
   ]
  },
  {
   "cell_type": "code",
   "execution_count": null,
   "id": "bd351a6f-0b2b-41db-8d37-c00f1f16f3ee",
   "metadata": {},
   "outputs": [
    {
     "name": "stdout",
     "output_type": "stream",
     "text": [
      "Array a in descending order with step minus two: [9 7 5 3 1]\n",
      "Start Array a from 1 with step two: [1 3 5 7 9]\n",
      "Sliced and reversed array a: [9 7 5 3 1]\n",
      "Reversed a6: [1 3 5 7 9]\n"
     ]
    }
   ],
   "source": [
    "a=np.arange(10)\n",
    "\n",
    "a5=a[::-2]\n",
    "print(\"Array a in descending order with step minus two:\", a5)\n",
    "\n",
    "a5a=a[1::2]\n",
    "print(\"Start Array a from 1 with step two:\", a5a)\n",
    "\n",
    "a6=a[1::2][::-1] # [1::2]Starts Array a from '1' with step two. '[::-1]' Reverse the order of output because step size is given as negative one.\n",
    "print(\"Sliced and reversed array a:\", a6)\n",
    "\n",
    "a7=a[1::2][::-1][::-1] # Here the third '[::-1]' reverse the order again.\n",
    "print(\"Reversed a6:\", a7)\n"
   ]
  },
  {
   "cell_type": "markdown",
   "id": "e5e3547e",
   "metadata": {},
   "source": [
    "## Checking memory mapping"
   ]
  },
  {
   "cell_type": "code",
   "execution_count": null,
   "id": "0c0caa51-474b-4bd6-a460-d380b1f8bfa6",
   "metadata": {},
   "outputs": [
    {
     "data": {
      "text/plain": [
       "True"
      ]
     },
     "execution_count": 261,
     "metadata": {},
     "output_type": "execute_result"
    }
   ],
   "source": [
    "np.shares_memory(a,a5) # checks if two arrays, a and a5, share the same underlying memory block."
   ]
  },
  {
   "cell_type": "markdown",
   "id": "ca194d6d",
   "metadata": {},
   "source": [
    "## Creating copy without memory mapping"
   ]
  },
  {
   "cell_type": "code",
   "execution_count": null,
   "id": "09119c33-cc1d-4020-b47b-79d789f3bd5d",
   "metadata": {},
   "outputs": [],
   "source": [
    "c=a[::2].copy() # creates a deep copy of the view, ensuring that c is a separate array with its own memory.Now, any modifications made to c will not affect the original array a."
   ]
  },
  {
   "cell_type": "markdown",
   "id": "335ceb9a",
   "metadata": {},
   "source": [
    "## Creating zero matrix and null matrix"
   ]
  },
  {
   "cell_type": "code",
   "execution_count": null,
   "id": "35e2ab57-55de-436a-9d72-03d4f03b3cb1",
   "metadata": {},
   "outputs": [
    {
     "name": "stdout",
     "output_type": "stream",
     "text": [
      "[[0. 0. 0. 0.]\n",
      " [0. 0. 0. 0.]\n",
      " [0. 0. 0. 0.]\n",
      " [0. 0. 0. 0.]]\n",
      "[[1. 1. 1. 1.]\n",
      " [1. 1. 1. 1.]\n",
      " [1. 1. 1. 1.]\n",
      " [1. 1. 1. 1.]]\n"
     ]
    }
   ],
   "source": [
    "a8=np.zeros((4,4))\n",
    "a9=np.ones((4,4))\n",
    "print(a8)\n",
    "print(a9)"
   ]
  },
  {
   "cell_type": "code",
   "execution_count": null,
   "id": "6a116b13-b298-4fd3-9c0f-50a71ffd3fb7",
   "metadata": {},
   "outputs": [
    {
     "name": "stdout",
     "output_type": "stream",
     "text": [
      "[[0. 0. 0. 0.]\n",
      " [0. 0. 0. 0.]\n",
      " [0. 0. 0. 0.]\n",
      " [0. 0. 0. 0.]\n",
      " [1. 1. 1. 1.]\n",
      " [1. 1. 1. 1.]\n",
      " [1. 1. 1. 1.]\n",
      " [1. 1. 1. 1.]]\n"
     ]
    },
    {
     "data": {
      "text/plain": [
       "(8, 4)"
      ]
     },
     "execution_count": 264,
     "metadata": {},
     "output_type": "execute_result"
    }
   ],
   "source": [
    "c=np.vstack((a8,a9)) #Number of rows should be same\n",
    "print(c)\n",
    "c.shape"
   ]
  },
  {
   "cell_type": "markdown",
   "id": "73af4fac",
   "metadata": {},
   "source": [
    "# Horizontal stack"
   ]
  },
  {
   "cell_type": "code",
   "execution_count": null,
   "id": "c8e120b4-8eff-43f3-8188-85981c997103",
   "metadata": {},
   "outputs": [
    {
     "data": {
      "text/plain": [
       "array([[0., 0., 0., 0., 1., 1., 1., 1.],\n",
       "       [0., 0., 0., 0., 1., 1., 1., 1.],\n",
       "       [0., 0., 0., 0., 1., 1., 1., 1.],\n",
       "       [0., 0., 0., 0., 1., 1., 1., 1.]])"
      ]
     },
     "execution_count": 265,
     "metadata": {},
     "output_type": "execute_result"
    }
   ],
   "source": [
    "d=np.hstack((a8,a9))# Number of columns should be same\n",
    "d.shape\n",
    "d"
   ]
  },
  {
   "cell_type": "code",
   "execution_count": null,
   "id": "e9d7d4a0",
   "metadata": {},
   "outputs": [
    {
     "data": {
      "text/plain": [
       "array([1, 2, 3, 4, 5, 6])"
      ]
     },
     "execution_count": 266,
     "metadata": {},
     "output_type": "execute_result"
    }
   ],
   "source": [
    "x = np.array([1, 2, 3])\n",
    "y = np.array([4, 5, 6])\n",
    "stack=np.hstack((x,y))\n",
    "stack"
   ]
  },
  {
   "cell_type": "markdown",
   "id": "41e61618",
   "metadata": {},
   "source": [
    "## As you can see, np.hstack() concatenates the two arrays horizontally, creating a single array.\n",
    "\n",
    "### Key Points:\n",
    "\n",
    "#### Array Shapes: The arrays being stacked must have the same number of dimensions, except for 1D arrays.\n",
    "#### Memory Efficiency: np.hstack() often creates a view of the input arrays, so modifying 'stack' might affect x and y if they share memory.\n",
    "#### Alternative: You can also use the np.concatenate() function with the axis=1 argument to achieve the same result."
   ]
  },
  {
   "cell_type": "code",
   "execution_count": null,
   "id": "ebf7fb7d-75fd-4f17-aa89-d03f525b8da9",
   "metadata": {},
   "outputs": [
    {
     "data": {
      "text/plain": [
       "array([[0., 0., 0., 0., 1., 1., 1., 1.],\n",
       "       [0., 0., 0., 0., 1., 1., 1., 1.],\n",
       "       [0., 0., 0., 0., 1., 1., 1., 1.],\n",
       "       [0., 0., 0., 0., 1., 1., 1., 1.]])"
      ]
     },
     "execution_count": 267,
     "metadata": {},
     "output_type": "execute_result"
    }
   ],
   "source": [
    "a8=np.zeros((4,4))\n",
    "a9=np.ones((4,4))\n",
    "np.concatenate([a8,a9],axis=1) # If you give axis =0 it will give v stack(vertical) and for axis=1 it will give h stack axis=3 gives 3D"
   ]
  },
  {
   "cell_type": "code",
   "execution_count": null,
   "id": "05698927",
   "metadata": {},
   "outputs": [
    {
     "data": {
      "text/plain": [
       "array([[0., 0., 0., 0.],\n",
       "       [0., 0., 0., 0.],\n",
       "       [0., 0., 0., 0.],\n",
       "       [0., 0., 0., 0.],\n",
       "       [1., 1., 1., 1.],\n",
       "       [1., 1., 1., 1.],\n",
       "       [1., 1., 1., 1.],\n",
       "       [1., 1., 1., 1.]])"
      ]
     },
     "execution_count": 268,
     "metadata": {},
     "output_type": "execute_result"
    }
   ],
   "source": [
    "d.T # Gives transpose of d"
   ]
  },
  {
   "cell_type": "code",
   "execution_count": null,
   "id": "e1caa43e-1c1b-40b5-89d8-46e8b348935d",
   "metadata": {},
   "outputs": [
    {
     "data": {
      "text/plain": [
       "(8, 4)"
      ]
     },
     "execution_count": 269,
     "metadata": {},
     "output_type": "execute_result"
    }
   ],
   "source": [
    "d=np.hstack((a8,a9))\n",
    "d.T.shape # Shape of Transpose "
   ]
  },
  {
   "cell_type": "code",
   "execution_count": null,
   "id": "e58adc96-9901-4075-85fa-c3cf0944326e",
   "metadata": {},
   "outputs": [
    {
     "data": {
      "text/plain": [
       "np.int64(14)"
      ]
     },
     "execution_count": 270,
     "metadata": {},
     "output_type": "execute_result"
    }
   ],
   "source": [
    "a10=np.arange(4)\n",
    "a11=a10.T # Transpose of a10\n",
    "np.dot(a10,a11) # Dot product"
   ]
  },
  {
   "cell_type": "code",
   "execution_count": null,
   "id": "4ac2eba6-e286-4221-9f86-f37c19a8cb7f",
   "metadata": {},
   "outputs": [
    {
     "name": "stdout",
     "output_type": "stream",
     "text": [
      "[[1 2 3]\n",
      " [4 5 6]\n",
      " [7 8 9]]\n",
      "[[1 4 7]\n",
      " [2 5 8]\n",
      " [3 6 9]]\n"
     ]
    },
    {
     "data": {
      "text/plain": [
       "array([[ 14,  32,  50],\n",
       "       [ 32,  77, 122],\n",
       "       [ 50, 122, 194]])"
      ]
     },
     "execution_count": 271,
     "metadata": {},
     "output_type": "execute_result"
    }
   ],
   "source": [
    "a12=np.array([[1,2,3],[4,5,6],[7,8,9]])\n",
    "print(a12)\n",
    "a13=a12.T\n",
    "print(a13)\n",
    "np.dot(a12,a13)"
   ]
  },
  {
   "cell_type": "markdown",
   "id": "0593da11-42c3-4944-bee3-82b1bb9fb317",
   "metadata": {},
   "source": [
    "# PANDAS"
   ]
  },
  {
   "cell_type": "markdown",
   "id": "3b93daab",
   "metadata": {},
   "source": [
    "## Why Pandas DataFrame is not called as table?\n",
    "\n",
    "#### Rich Functionality: DataFrame offers a wide range of functionalities beyond basic table operations. It provides tools for data cleaning, manipulation, analysis, and visualization, making it a powerful tool for data scientists and analysts.   \n",
    "#### Data Structure: While a table is a static structure, a DataFrame is a dynamic data structure that can be easily modified, reshaped, and filtered. It offers flexibility in handling diverse data formats and performing complex operations.   \n",
    "#### Integration with Other Libraries: DataFrames can seamlessly integrate with other libraries like NumPy, Matplotlib, and Scikit-learn, enabling advanced data analysis and machine learning tasks.   \n",
    "#### Label-Based Indexing: DataFrames have labeled axes (rows and columns), making it easier to access and manipulate specific data points.   \n",
    "#### Heterogeneous Data Types: Unlike traditional tables, DataFrames can handle different data types within a single column, providing flexibility in data representation.\n",
    "\n",
    "   \n"
   ]
  },
  {
   "cell_type": "code",
   "execution_count": null,
   "id": "cb365ce6-e790-4d09-97ca-d67faac25690",
   "metadata": {},
   "outputs": [],
   "source": [
    "import pandas as pd"
   ]
  },
  {
   "cell_type": "code",
   "execution_count": 350,
   "id": "9c010354-9018-4d22-bb28-df1105a34498",
   "metadata": {},
   "outputs": [
    {
     "data": {
      "text/html": [
       "<div>\n",
       "<style scoped>\n",
       "    .dataframe tbody tr th:only-of-type {\n",
       "        vertical-align: middle;\n",
       "    }\n",
       "\n",
       "    .dataframe tbody tr th {\n",
       "        vertical-align: top;\n",
       "    }\n",
       "\n",
       "    .dataframe thead th {\n",
       "        text-align: right;\n",
       "    }\n",
       "</style>\n",
       "<table border=\"1\" class=\"dataframe\">\n",
       "  <thead>\n",
       "    <tr style=\"text-align: right;\">\n",
       "      <th></th>\n",
       "      <th>date</th>\n",
       "      <th>temp</th>\n",
       "      <th>wind</th>\n",
       "      <th>climate</th>\n",
       "    </tr>\n",
       "  </thead>\n",
       "  <tbody>\n",
       "    <tr>\n",
       "      <th>0</th>\n",
       "      <td>1/1/2024</td>\n",
       "      <td>32</td>\n",
       "      <td>6</td>\n",
       "      <td>Rain</td>\n",
       "    </tr>\n",
       "    <tr>\n",
       "      <th>1</th>\n",
       "      <td>2/11/2024</td>\n",
       "      <td>35</td>\n",
       "      <td>7</td>\n",
       "      <td>Sunny</td>\n",
       "    </tr>\n",
       "  </tbody>\n",
       "</table>\n",
       "</div>"
      ],
      "text/plain": [
       "        date  temp  wind climate\n",
       "0   1/1/2024    32     6    Rain\n",
       "1  2/11/2024    35     7   Sunny"
      ]
     },
     "execution_count": 350,
     "metadata": {},
     "output_type": "execute_result"
    }
   ],
   "source": [
    "weather_data=[(\"1/1/2024\",32,6,\"Rain\"),(\"2/11/2024\",35,7,\"Sunny\")]\n",
    "df=pd.DataFrame(weather_data,\\\n",
    "                columns=[\"date\",\"temp\",\"wind\",\"climate\"])\n",
    "df"
   ]
  },
  {
   "cell_type": "code",
   "execution_count": 351,
   "id": "c608d7b6-79e8-4719-9218-7b83fba9426c",
   "metadata": {},
   "outputs": [
    {
     "data": {
      "text/plain": [
       "(2, 4)"
      ]
     },
     "execution_count": 351,
     "metadata": {},
     "output_type": "execute_result"
    }
   ],
   "source": [
    "df.shape # Returns number of rows and columns"
   ]
  },
  {
   "cell_type": "code",
   "execution_count": 352,
   "id": "55288256-a01d-4711-995f-c5411c142605",
   "metadata": {},
   "outputs": [],
   "source": [
    "df = pd.read_csv(\"D:\\\\ICT Academy\\\\DataScience\\\\Python\\\\auto-mpg.csv\") # Location of file 'auto-mpg.csv'."
   ]
  },
  {
   "cell_type": "code",
   "execution_count": 353,
   "id": "e63b136d-cbee-4b1e-9ffb-536738120855",
   "metadata": {},
   "outputs": [
    {
     "data": {
      "text/html": [
       "<div>\n",
       "<style scoped>\n",
       "    .dataframe tbody tr th:only-of-type {\n",
       "        vertical-align: middle;\n",
       "    }\n",
       "\n",
       "    .dataframe tbody tr th {\n",
       "        vertical-align: top;\n",
       "    }\n",
       "\n",
       "    .dataframe thead th {\n",
       "        text-align: right;\n",
       "    }\n",
       "</style>\n",
       "<table border=\"1\" class=\"dataframe\">\n",
       "  <thead>\n",
       "    <tr style=\"text-align: right;\">\n",
       "      <th></th>\n",
       "      <th>mpg</th>\n",
       "      <th>cylinders</th>\n",
       "      <th>displacement</th>\n",
       "      <th>horsepower</th>\n",
       "      <th>weight</th>\n",
       "      <th>acceleration</th>\n",
       "      <th>model year</th>\n",
       "      <th>origin</th>\n",
       "      <th>car name</th>\n",
       "    </tr>\n",
       "  </thead>\n",
       "  <tbody>\n",
       "    <tr>\n",
       "      <th>0</th>\n",
       "      <td>18.0</td>\n",
       "      <td>8</td>\n",
       "      <td>307.0</td>\n",
       "      <td>130</td>\n",
       "      <td>3504</td>\n",
       "      <td>12.0</td>\n",
       "      <td>70</td>\n",
       "      <td>1</td>\n",
       "      <td>chevrolet chevelle malibu</td>\n",
       "    </tr>\n",
       "    <tr>\n",
       "      <th>1</th>\n",
       "      <td>15.0</td>\n",
       "      <td>8</td>\n",
       "      <td>350.0</td>\n",
       "      <td>165</td>\n",
       "      <td>3693</td>\n",
       "      <td>11.5</td>\n",
       "      <td>70</td>\n",
       "      <td>1</td>\n",
       "      <td>buick skylark 320</td>\n",
       "    </tr>\n",
       "    <tr>\n",
       "      <th>2</th>\n",
       "      <td>18.0</td>\n",
       "      <td>8</td>\n",
       "      <td>318.0</td>\n",
       "      <td>150</td>\n",
       "      <td>3436</td>\n",
       "      <td>11.0</td>\n",
       "      <td>70</td>\n",
       "      <td>1</td>\n",
       "      <td>plymouth satellite</td>\n",
       "    </tr>\n",
       "    <tr>\n",
       "      <th>3</th>\n",
       "      <td>16.0</td>\n",
       "      <td>8</td>\n",
       "      <td>304.0</td>\n",
       "      <td>150</td>\n",
       "      <td>3433</td>\n",
       "      <td>12.0</td>\n",
       "      <td>70</td>\n",
       "      <td>1</td>\n",
       "      <td>amc rebel sst</td>\n",
       "    </tr>\n",
       "    <tr>\n",
       "      <th>4</th>\n",
       "      <td>17.0</td>\n",
       "      <td>8</td>\n",
       "      <td>302.0</td>\n",
       "      <td>140</td>\n",
       "      <td>3449</td>\n",
       "      <td>10.5</td>\n",
       "      <td>70</td>\n",
       "      <td>1</td>\n",
       "      <td>ford torino</td>\n",
       "    </tr>\n",
       "    <tr>\n",
       "      <th>...</th>\n",
       "      <td>...</td>\n",
       "      <td>...</td>\n",
       "      <td>...</td>\n",
       "      <td>...</td>\n",
       "      <td>...</td>\n",
       "      <td>...</td>\n",
       "      <td>...</td>\n",
       "      <td>...</td>\n",
       "      <td>...</td>\n",
       "    </tr>\n",
       "    <tr>\n",
       "      <th>393</th>\n",
       "      <td>27.0</td>\n",
       "      <td>4</td>\n",
       "      <td>140.0</td>\n",
       "      <td>86</td>\n",
       "      <td>2790</td>\n",
       "      <td>15.6</td>\n",
       "      <td>82</td>\n",
       "      <td>1</td>\n",
       "      <td>ford mustang gl</td>\n",
       "    </tr>\n",
       "    <tr>\n",
       "      <th>394</th>\n",
       "      <td>44.0</td>\n",
       "      <td>4</td>\n",
       "      <td>97.0</td>\n",
       "      <td>52</td>\n",
       "      <td>2130</td>\n",
       "      <td>24.6</td>\n",
       "      <td>82</td>\n",
       "      <td>2</td>\n",
       "      <td>vw pickup</td>\n",
       "    </tr>\n",
       "    <tr>\n",
       "      <th>395</th>\n",
       "      <td>32.0</td>\n",
       "      <td>4</td>\n",
       "      <td>135.0</td>\n",
       "      <td>84</td>\n",
       "      <td>2295</td>\n",
       "      <td>11.6</td>\n",
       "      <td>82</td>\n",
       "      <td>1</td>\n",
       "      <td>dodge rampage</td>\n",
       "    </tr>\n",
       "    <tr>\n",
       "      <th>396</th>\n",
       "      <td>28.0</td>\n",
       "      <td>4</td>\n",
       "      <td>120.0</td>\n",
       "      <td>79</td>\n",
       "      <td>2625</td>\n",
       "      <td>18.6</td>\n",
       "      <td>82</td>\n",
       "      <td>1</td>\n",
       "      <td>ford ranger</td>\n",
       "    </tr>\n",
       "    <tr>\n",
       "      <th>397</th>\n",
       "      <td>31.0</td>\n",
       "      <td>4</td>\n",
       "      <td>119.0</td>\n",
       "      <td>82</td>\n",
       "      <td>2720</td>\n",
       "      <td>19.4</td>\n",
       "      <td>82</td>\n",
       "      <td>1</td>\n",
       "      <td>chevy s-10</td>\n",
       "    </tr>\n",
       "  </tbody>\n",
       "</table>\n",
       "<p>398 rows × 9 columns</p>\n",
       "</div>"
      ],
      "text/plain": [
       "      mpg  cylinders  displacement horsepower  weight  acceleration  \\\n",
       "0    18.0          8         307.0        130    3504          12.0   \n",
       "1    15.0          8         350.0        165    3693          11.5   \n",
       "2    18.0          8         318.0        150    3436          11.0   \n",
       "3    16.0          8         304.0        150    3433          12.0   \n",
       "4    17.0          8         302.0        140    3449          10.5   \n",
       "..    ...        ...           ...        ...     ...           ...   \n",
       "393  27.0          4         140.0         86    2790          15.6   \n",
       "394  44.0          4          97.0         52    2130          24.6   \n",
       "395  32.0          4         135.0         84    2295          11.6   \n",
       "396  28.0          4         120.0         79    2625          18.6   \n",
       "397  31.0          4         119.0         82    2720          19.4   \n",
       "\n",
       "     model year  origin                   car name  \n",
       "0            70       1  chevrolet chevelle malibu  \n",
       "1            70       1          buick skylark 320  \n",
       "2            70       1         plymouth satellite  \n",
       "3            70       1              amc rebel sst  \n",
       "4            70       1                ford torino  \n",
       "..          ...     ...                        ...  \n",
       "393          82       1            ford mustang gl  \n",
       "394          82       2                  vw pickup  \n",
       "395          82       1              dodge rampage  \n",
       "396          82       1                ford ranger  \n",
       "397          82       1                 chevy s-10  \n",
       "\n",
       "[398 rows x 9 columns]"
      ]
     },
     "execution_count": 353,
     "metadata": {},
     "output_type": "execute_result"
    }
   ],
   "source": [
    "df"
   ]
  },
  {
   "cell_type": "code",
   "execution_count": 354,
   "id": "1d3520b8-da54-4c14-8c0a-f415e743773e",
   "metadata": {},
   "outputs": [
    {
     "data": {
      "text/plain": [
       "(398, 9)"
      ]
     },
     "execution_count": 354,
     "metadata": {},
     "output_type": "execute_result"
    }
   ],
   "source": [
    "df.shape # Size of table as rows and columns"
   ]
  },
  {
   "cell_type": "markdown",
   "id": "4dd15336",
   "metadata": {},
   "source": [
    "# Access rows/columns using index/label."
   ]
  },
  {
   "cell_type": "markdown",
   "id": "053eb01c",
   "metadata": {},
   "source": [
    "#### Accessing row:"
   ]
  },
  {
   "cell_type": "code",
   "execution_count": 356,
   "id": "6e3deb81",
   "metadata": {},
   "outputs": [
    {
     "data": {
      "text/plain": [
       "mpg                    17.0\n",
       "cylinders                 8\n",
       "displacement          302.0\n",
       "horsepower              140\n",
       "weight                 3449\n",
       "acceleration           10.5\n",
       "model year               70\n",
       "origin                    1\n",
       "car name        ford torino\n",
       "Name: 4, dtype: object"
      ]
     },
     "execution_count": 356,
     "metadata": {},
     "output_type": "execute_result"
    }
   ],
   "source": [
    "df.loc[4] # Access specific rows or columns within a DataFrame based on their index/labels."
   ]
  },
  {
   "cell_type": "markdown",
   "id": "8c90f5e5",
   "metadata": {},
   "source": [
    "### Acessing single column"
   ]
  },
  {
   "cell_type": "code",
   "execution_count": 358,
   "id": "2ba47b61",
   "metadata": {},
   "outputs": [
    {
     "data": {
      "text/plain": [
       "0      8\n",
       "1      8\n",
       "2      8\n",
       "3      8\n",
       "4      8\n",
       "      ..\n",
       "393    4\n",
       "394    4\n",
       "395    4\n",
       "396    4\n",
       "397    4\n",
       "Name: cylinders, Length: 398, dtype: int64"
      ]
     },
     "execution_count": 358,
     "metadata": {},
     "output_type": "execute_result"
    }
   ],
   "source": [
    "column_data = df.loc[:, 'cylinders']\n",
    "column_data"
   ]
  },
  {
   "cell_type": "markdown",
   "id": "55c3e90a",
   "metadata": {},
   "source": [
    "### Acessing multiple columns"
   ]
  },
  {
   "cell_type": "code",
   "execution_count": null,
   "id": "fe22eee4",
   "metadata": {},
   "outputs": [
    {
     "data": {
      "text/html": [
       "<div>\n",
       "<style scoped>\n",
       "    .dataframe tbody tr th:only-of-type {\n",
       "        vertical-align: middle;\n",
       "    }\n",
       "\n",
       "    .dataframe tbody tr th {\n",
       "        vertical-align: top;\n",
       "    }\n",
       "\n",
       "    .dataframe thead th {\n",
       "        text-align: right;\n",
       "    }\n",
       "</style>\n",
       "<table border=\"1\" class=\"dataframe\">\n",
       "  <thead>\n",
       "    <tr style=\"text-align: right;\">\n",
       "      <th></th>\n",
       "      <th>cylinders</th>\n",
       "      <th>car name</th>\n",
       "    </tr>\n",
       "  </thead>\n",
       "  <tbody>\n",
       "    <tr>\n",
       "      <th>0</th>\n",
       "      <td>8</td>\n",
       "      <td>chevrolet chevelle malibu</td>\n",
       "    </tr>\n",
       "    <tr>\n",
       "      <th>1</th>\n",
       "      <td>8</td>\n",
       "      <td>buick skylark 320</td>\n",
       "    </tr>\n",
       "    <tr>\n",
       "      <th>2</th>\n",
       "      <td>8</td>\n",
       "      <td>plymouth satellite</td>\n",
       "    </tr>\n",
       "    <tr>\n",
       "      <th>3</th>\n",
       "      <td>8</td>\n",
       "      <td>amc rebel sst</td>\n",
       "    </tr>\n",
       "    <tr>\n",
       "      <th>4</th>\n",
       "      <td>8</td>\n",
       "      <td>ford torino</td>\n",
       "    </tr>\n",
       "    <tr>\n",
       "      <th>...</th>\n",
       "      <td>...</td>\n",
       "      <td>...</td>\n",
       "    </tr>\n",
       "    <tr>\n",
       "      <th>393</th>\n",
       "      <td>4</td>\n",
       "      <td>ford mustang gl</td>\n",
       "    </tr>\n",
       "    <tr>\n",
       "      <th>394</th>\n",
       "      <td>4</td>\n",
       "      <td>vw pickup</td>\n",
       "    </tr>\n",
       "    <tr>\n",
       "      <th>395</th>\n",
       "      <td>4</td>\n",
       "      <td>dodge rampage</td>\n",
       "    </tr>\n",
       "    <tr>\n",
       "      <th>396</th>\n",
       "      <td>4</td>\n",
       "      <td>ford ranger</td>\n",
       "    </tr>\n",
       "    <tr>\n",
       "      <th>397</th>\n",
       "      <td>4</td>\n",
       "      <td>chevy s-10</td>\n",
       "    </tr>\n",
       "  </tbody>\n",
       "</table>\n",
       "<p>398 rows × 2 columns</p>\n",
       "</div>"
      ],
      "text/plain": [
       "     cylinders                   car name\n",
       "0            8  chevrolet chevelle malibu\n",
       "1            8          buick skylark 320\n",
       "2            8         plymouth satellite\n",
       "3            8              amc rebel sst\n",
       "4            8                ford torino\n",
       "..         ...                        ...\n",
       "393          4            ford mustang gl\n",
       "394          4                  vw pickup\n",
       "395          4              dodge rampage\n",
       "396          4                ford ranger\n",
       "397          4                 chevy s-10\n",
       "\n",
       "[398 rows x 2 columns]"
      ]
     },
     "execution_count": 364,
     "metadata": {},
     "output_type": "execute_result"
    }
   ],
   "source": [
    "selected_columns = df.loc[:, ['cylinders', 'car name']]\n",
    "selected_columns"
   ]
  },
  {
   "cell_type": "markdown",
   "id": "209348d2",
   "metadata": {},
   "source": [
    "### Access column and change order of columns"
   ]
  },
  {
   "cell_type": "code",
   "execution_count": 366,
   "id": "7600b851",
   "metadata": {},
   "outputs": [
    {
     "data": {
      "text/html": [
       "<div>\n",
       "<style scoped>\n",
       "    .dataframe tbody tr th:only-of-type {\n",
       "        vertical-align: middle;\n",
       "    }\n",
       "\n",
       "    .dataframe tbody tr th {\n",
       "        vertical-align: top;\n",
       "    }\n",
       "\n",
       "    .dataframe thead th {\n",
       "        text-align: right;\n",
       "    }\n",
       "</style>\n",
       "<table border=\"1\" class=\"dataframe\">\n",
       "  <thead>\n",
       "    <tr style=\"text-align: right;\">\n",
       "      <th></th>\n",
       "      <th>car name</th>\n",
       "      <th>cylinders</th>\n",
       "      <th>model year</th>\n",
       "    </tr>\n",
       "  </thead>\n",
       "  <tbody>\n",
       "    <tr>\n",
       "      <th>0</th>\n",
       "      <td>chevrolet chevelle malibu</td>\n",
       "      <td>8</td>\n",
       "      <td>70</td>\n",
       "    </tr>\n",
       "    <tr>\n",
       "      <th>1</th>\n",
       "      <td>buick skylark 320</td>\n",
       "      <td>8</td>\n",
       "      <td>70</td>\n",
       "    </tr>\n",
       "    <tr>\n",
       "      <th>2</th>\n",
       "      <td>plymouth satellite</td>\n",
       "      <td>8</td>\n",
       "      <td>70</td>\n",
       "    </tr>\n",
       "    <tr>\n",
       "      <th>3</th>\n",
       "      <td>amc rebel sst</td>\n",
       "      <td>8</td>\n",
       "      <td>70</td>\n",
       "    </tr>\n",
       "    <tr>\n",
       "      <th>4</th>\n",
       "      <td>ford torino</td>\n",
       "      <td>8</td>\n",
       "      <td>70</td>\n",
       "    </tr>\n",
       "    <tr>\n",
       "      <th>...</th>\n",
       "      <td>...</td>\n",
       "      <td>...</td>\n",
       "      <td>...</td>\n",
       "    </tr>\n",
       "    <tr>\n",
       "      <th>393</th>\n",
       "      <td>ford mustang gl</td>\n",
       "      <td>4</td>\n",
       "      <td>82</td>\n",
       "    </tr>\n",
       "    <tr>\n",
       "      <th>394</th>\n",
       "      <td>vw pickup</td>\n",
       "      <td>4</td>\n",
       "      <td>82</td>\n",
       "    </tr>\n",
       "    <tr>\n",
       "      <th>395</th>\n",
       "      <td>dodge rampage</td>\n",
       "      <td>4</td>\n",
       "      <td>82</td>\n",
       "    </tr>\n",
       "    <tr>\n",
       "      <th>396</th>\n",
       "      <td>ford ranger</td>\n",
       "      <td>4</td>\n",
       "      <td>82</td>\n",
       "    </tr>\n",
       "    <tr>\n",
       "      <th>397</th>\n",
       "      <td>chevy s-10</td>\n",
       "      <td>4</td>\n",
       "      <td>82</td>\n",
       "    </tr>\n",
       "  </tbody>\n",
       "</table>\n",
       "<p>398 rows × 3 columns</p>\n",
       "</div>"
      ],
      "text/plain": [
       "                      car name  cylinders  model year\n",
       "0    chevrolet chevelle malibu          8          70\n",
       "1            buick skylark 320          8          70\n",
       "2           plymouth satellite          8          70\n",
       "3                amc rebel sst          8          70\n",
       "4                  ford torino          8          70\n",
       "..                         ...        ...         ...\n",
       "393            ford mustang gl          4          82\n",
       "394                  vw pickup          4          82\n",
       "395              dodge rampage          4          82\n",
       "396                ford ranger          4          82\n",
       "397                 chevy s-10          4          82\n",
       "\n",
       "[398 rows x 3 columns]"
      ]
     },
     "execution_count": 366,
     "metadata": {},
     "output_type": "execute_result"
    }
   ],
   "source": [
    "change_column_order = df.loc[:, ['car name','cylinders', 'model year']]\n",
    "change_column_order"
   ]
  },
  {
   "cell_type": "markdown",
   "id": "b790f615",
   "metadata": {},
   "source": [
    "## df.head(): By default, displays the first 5 rows of a DataFrame. If you provide a number within the brackets, it will display that much rows."
   ]
  },
  {
   "cell_type": "code",
   "execution_count": 278,
   "id": "8cf03a38",
   "metadata": {},
   "outputs": [
    {
     "data": {
      "text/html": [
       "<div>\n",
       "<style scoped>\n",
       "    .dataframe tbody tr th:only-of-type {\n",
       "        vertical-align: middle;\n",
       "    }\n",
       "\n",
       "    .dataframe tbody tr th {\n",
       "        vertical-align: top;\n",
       "    }\n",
       "\n",
       "    .dataframe thead th {\n",
       "        text-align: right;\n",
       "    }\n",
       "</style>\n",
       "<table border=\"1\" class=\"dataframe\">\n",
       "  <thead>\n",
       "    <tr style=\"text-align: right;\">\n",
       "      <th></th>\n",
       "      <th>mpg</th>\n",
       "      <th>cylinders</th>\n",
       "      <th>displacement</th>\n",
       "      <th>horsepower</th>\n",
       "      <th>weight</th>\n",
       "      <th>acceleration</th>\n",
       "      <th>model year</th>\n",
       "      <th>origin</th>\n",
       "      <th>car name</th>\n",
       "    </tr>\n",
       "  </thead>\n",
       "  <tbody>\n",
       "    <tr>\n",
       "      <th>0</th>\n",
       "      <td>18.0</td>\n",
       "      <td>8</td>\n",
       "      <td>307.0</td>\n",
       "      <td>130</td>\n",
       "      <td>3504</td>\n",
       "      <td>12.0</td>\n",
       "      <td>70</td>\n",
       "      <td>1</td>\n",
       "      <td>chevrolet chevelle malibu</td>\n",
       "    </tr>\n",
       "    <tr>\n",
       "      <th>1</th>\n",
       "      <td>15.0</td>\n",
       "      <td>8</td>\n",
       "      <td>350.0</td>\n",
       "      <td>165</td>\n",
       "      <td>3693</td>\n",
       "      <td>11.5</td>\n",
       "      <td>70</td>\n",
       "      <td>1</td>\n",
       "      <td>buick skylark 320</td>\n",
       "    </tr>\n",
       "    <tr>\n",
       "      <th>2</th>\n",
       "      <td>18.0</td>\n",
       "      <td>8</td>\n",
       "      <td>318.0</td>\n",
       "      <td>150</td>\n",
       "      <td>3436</td>\n",
       "      <td>11.0</td>\n",
       "      <td>70</td>\n",
       "      <td>1</td>\n",
       "      <td>plymouth satellite</td>\n",
       "    </tr>\n",
       "    <tr>\n",
       "      <th>3</th>\n",
       "      <td>16.0</td>\n",
       "      <td>8</td>\n",
       "      <td>304.0</td>\n",
       "      <td>150</td>\n",
       "      <td>3433</td>\n",
       "      <td>12.0</td>\n",
       "      <td>70</td>\n",
       "      <td>1</td>\n",
       "      <td>amc rebel sst</td>\n",
       "    </tr>\n",
       "    <tr>\n",
       "      <th>4</th>\n",
       "      <td>17.0</td>\n",
       "      <td>8</td>\n",
       "      <td>302.0</td>\n",
       "      <td>140</td>\n",
       "      <td>3449</td>\n",
       "      <td>10.5</td>\n",
       "      <td>70</td>\n",
       "      <td>1</td>\n",
       "      <td>ford torino</td>\n",
       "    </tr>\n",
       "  </tbody>\n",
       "</table>\n",
       "</div>"
      ],
      "text/plain": [
       "    mpg  cylinders  displacement horsepower  weight  acceleration  model year  \\\n",
       "0  18.0          8         307.0        130    3504          12.0          70   \n",
       "1  15.0          8         350.0        165    3693          11.5          70   \n",
       "2  18.0          8         318.0        150    3436          11.0          70   \n",
       "3  16.0          8         304.0        150    3433          12.0          70   \n",
       "4  17.0          8         302.0        140    3449          10.5          70   \n",
       "\n",
       "   origin                   car name  \n",
       "0       1  chevrolet chevelle malibu  \n",
       "1       1          buick skylark 320  \n",
       "2       1         plymouth satellite  \n",
       "3       1              amc rebel sst  \n",
       "4       1                ford torino  "
      ]
     },
     "execution_count": 278,
     "metadata": {},
     "output_type": "execute_result"
    }
   ],
   "source": [
    "df.head() # Print first 5 rows."
   ]
  },
  {
   "cell_type": "code",
   "execution_count": 279,
   "id": "d2bb7a26-aed8-4c35-8079-43a0addbff54",
   "metadata": {},
   "outputs": [
    {
     "data": {
      "text/html": [
       "<div>\n",
       "<style scoped>\n",
       "    .dataframe tbody tr th:only-of-type {\n",
       "        vertical-align: middle;\n",
       "    }\n",
       "\n",
       "    .dataframe tbody tr th {\n",
       "        vertical-align: top;\n",
       "    }\n",
       "\n",
       "    .dataframe thead th {\n",
       "        text-align: right;\n",
       "    }\n",
       "</style>\n",
       "<table border=\"1\" class=\"dataframe\">\n",
       "  <thead>\n",
       "    <tr style=\"text-align: right;\">\n",
       "      <th></th>\n",
       "      <th>mpg</th>\n",
       "      <th>cylinders</th>\n",
       "      <th>displacement</th>\n",
       "      <th>horsepower</th>\n",
       "      <th>weight</th>\n",
       "      <th>acceleration</th>\n",
       "      <th>model year</th>\n",
       "      <th>origin</th>\n",
       "      <th>car name</th>\n",
       "    </tr>\n",
       "  </thead>\n",
       "  <tbody>\n",
       "    <tr>\n",
       "      <th>0</th>\n",
       "      <td>18.0</td>\n",
       "      <td>8</td>\n",
       "      <td>307.0</td>\n",
       "      <td>130</td>\n",
       "      <td>3504</td>\n",
       "      <td>12.0</td>\n",
       "      <td>70</td>\n",
       "      <td>1</td>\n",
       "      <td>chevrolet chevelle malibu</td>\n",
       "    </tr>\n",
       "    <tr>\n",
       "      <th>1</th>\n",
       "      <td>15.0</td>\n",
       "      <td>8</td>\n",
       "      <td>350.0</td>\n",
       "      <td>165</td>\n",
       "      <td>3693</td>\n",
       "      <td>11.5</td>\n",
       "      <td>70</td>\n",
       "      <td>1</td>\n",
       "      <td>buick skylark 320</td>\n",
       "    </tr>\n",
       "  </tbody>\n",
       "</table>\n",
       "</div>"
      ],
      "text/plain": [
       "    mpg  cylinders  displacement horsepower  weight  acceleration  model year  \\\n",
       "0  18.0          8         307.0        130    3504          12.0          70   \n",
       "1  15.0          8         350.0        165    3693          11.5          70   \n",
       "\n",
       "   origin                   car name  \n",
       "0       1  chevrolet chevelle malibu  \n",
       "1       1          buick skylark 320  "
      ]
     },
     "execution_count": 279,
     "metadata": {},
     "output_type": "execute_result"
    }
   ],
   "source": [
    "df.head(2) # First two rows"
   ]
  },
  {
   "cell_type": "markdown",
   "id": "c5e59a05",
   "metadata": {},
   "source": [
    "# Acess a column from table"
   ]
  },
  {
   "cell_type": "markdown",
   "id": "6650e239",
   "metadata": {},
   "source": [
    "#### Method 1:"
   ]
  },
  {
   "cell_type": "code",
   "execution_count": 280,
   "id": "fbdb8b08-3277-4ff9-bbbd-50d6fc2b1c81",
   "metadata": {},
   "outputs": [
    {
     "data": {
      "text/plain": [
       "0      18.0\n",
       "1      15.0\n",
       "2      18.0\n",
       "3      16.0\n",
       "4      17.0\n",
       "       ... \n",
       "393    27.0\n",
       "394    44.0\n",
       "395    32.0\n",
       "396    28.0\n",
       "397    31.0\n",
       "Name: mpg, Length: 398, dtype: float64"
      ]
     },
     "execution_count": 280,
     "metadata": {},
     "output_type": "execute_result"
    }
   ],
   "source": [
    "df[\"mpg\"] # To get column 'mpg'"
   ]
  },
  {
   "cell_type": "markdown",
   "id": "5f94599a",
   "metadata": {},
   "source": [
    "#### Method 2:"
   ]
  },
  {
   "cell_type": "code",
   "execution_count": 281,
   "id": "f426a77e-ec8a-4709-b2a5-d60a81ec26f5",
   "metadata": {},
   "outputs": [
    {
     "data": {
      "text/plain": [
       "0      18.0\n",
       "1      15.0\n",
       "2      18.0\n",
       "3      16.0\n",
       "4      17.0\n",
       "       ... \n",
       "393    27.0\n",
       "394    44.0\n",
       "395    32.0\n",
       "396    28.0\n",
       "397    31.0\n",
       "Name: mpg, Length: 398, dtype: float64"
      ]
     },
     "execution_count": 281,
     "metadata": {},
     "output_type": "execute_result"
    }
   ],
   "source": [
    "df.mpg # To get column 'mpg'"
   ]
  },
  {
   "cell_type": "code",
   "execution_count": 282,
   "id": "eda65b5e-72a1-4c15-8980-f3dbfaa19d33",
   "metadata": {},
   "outputs": [
    {
     "data": {
      "text/plain": [
       "0      chevrolet chevelle malibu\n",
       "1              buick skylark 320\n",
       "2             plymouth satellite\n",
       "3                  amc rebel sst\n",
       "4                    ford torino\n",
       "                 ...            \n",
       "393              ford mustang gl\n",
       "394                    vw pickup\n",
       "395                dodge rampage\n",
       "396                  ford ranger\n",
       "397                   chevy s-10\n",
       "Name: car name, Length: 398, dtype: object"
      ]
     },
     "execution_count": 282,
     "metadata": {},
     "output_type": "execute_result"
    }
   ],
   "source": [
    "df[\"car name\"]"
   ]
  },
  {
   "cell_type": "markdown",
   "id": "56b0cb6a",
   "metadata": {},
   "source": [
    "## Returns labels/names of all columns:"
   ]
  },
  {
   "cell_type": "code",
   "execution_count": 283,
   "id": "985a2ef1-6811-4fc3-8df9-87628883cc2c",
   "metadata": {},
   "outputs": [
    {
     "data": {
      "text/plain": [
       "Index(['mpg', 'cylinders', 'displacement', 'horsepower', 'weight',\n",
       "       'acceleration', 'model year', 'origin', 'car name'],\n",
       "      dtype='object')"
      ]
     },
     "execution_count": 283,
     "metadata": {},
     "output_type": "execute_result"
    }
   ],
   "source": [
    "df.columns #Get the name of columns"
   ]
  },
  {
   "cell_type": "code",
   "execution_count": 284,
   "id": "a61e480a-64d4-4b2e-8b9a-6100ddc715af",
   "metadata": {},
   "outputs": [
    {
     "data": {
      "text/plain": [
       "['mpg',\n",
       " 'cylinders',\n",
       " 'displacement',\n",
       " 'horsepower',\n",
       " 'weight',\n",
       " 'acceleration',\n",
       " 'model year',\n",
       " 'origin',\n",
       " 'car name']"
      ]
     },
     "execution_count": 284,
     "metadata": {},
     "output_type": "execute_result"
    }
   ],
   "source": [
    "df.columns.tolist()  #Get the name of columns as a list"
   ]
  },
  {
   "cell_type": "markdown",
   "id": "3e785eda",
   "metadata": {},
   "source": [
    "## Access multiple columns:"
   ]
  },
  {
   "cell_type": "code",
   "execution_count": 285,
   "id": "b525e997-adcf-40c1-bf10-4a58d255cc60",
   "metadata": {},
   "outputs": [
    {
     "data": {
      "text/html": [
       "<div>\n",
       "<style scoped>\n",
       "    .dataframe tbody tr th:only-of-type {\n",
       "        vertical-align: middle;\n",
       "    }\n",
       "\n",
       "    .dataframe tbody tr th {\n",
       "        vertical-align: top;\n",
       "    }\n",
       "\n",
       "    .dataframe thead th {\n",
       "        text-align: right;\n",
       "    }\n",
       "</style>\n",
       "<table border=\"1\" class=\"dataframe\">\n",
       "  <thead>\n",
       "    <tr style=\"text-align: right;\">\n",
       "      <th></th>\n",
       "      <th>mpg</th>\n",
       "      <th>car name</th>\n",
       "    </tr>\n",
       "  </thead>\n",
       "  <tbody>\n",
       "    <tr>\n",
       "      <th>0</th>\n",
       "      <td>18.0</td>\n",
       "      <td>chevrolet chevelle malibu</td>\n",
       "    </tr>\n",
       "    <tr>\n",
       "      <th>1</th>\n",
       "      <td>15.0</td>\n",
       "      <td>buick skylark 320</td>\n",
       "    </tr>\n",
       "    <tr>\n",
       "      <th>2</th>\n",
       "      <td>18.0</td>\n",
       "      <td>plymouth satellite</td>\n",
       "    </tr>\n",
       "    <tr>\n",
       "      <th>3</th>\n",
       "      <td>16.0</td>\n",
       "      <td>amc rebel sst</td>\n",
       "    </tr>\n",
       "    <tr>\n",
       "      <th>4</th>\n",
       "      <td>17.0</td>\n",
       "      <td>ford torino</td>\n",
       "    </tr>\n",
       "    <tr>\n",
       "      <th>...</th>\n",
       "      <td>...</td>\n",
       "      <td>...</td>\n",
       "    </tr>\n",
       "    <tr>\n",
       "      <th>393</th>\n",
       "      <td>27.0</td>\n",
       "      <td>ford mustang gl</td>\n",
       "    </tr>\n",
       "    <tr>\n",
       "      <th>394</th>\n",
       "      <td>44.0</td>\n",
       "      <td>vw pickup</td>\n",
       "    </tr>\n",
       "    <tr>\n",
       "      <th>395</th>\n",
       "      <td>32.0</td>\n",
       "      <td>dodge rampage</td>\n",
       "    </tr>\n",
       "    <tr>\n",
       "      <th>396</th>\n",
       "      <td>28.0</td>\n",
       "      <td>ford ranger</td>\n",
       "    </tr>\n",
       "    <tr>\n",
       "      <th>397</th>\n",
       "      <td>31.0</td>\n",
       "      <td>chevy s-10</td>\n",
       "    </tr>\n",
       "  </tbody>\n",
       "</table>\n",
       "<p>398 rows × 2 columns</p>\n",
       "</div>"
      ],
      "text/plain": [
       "      mpg                   car name\n",
       "0    18.0  chevrolet chevelle malibu\n",
       "1    15.0          buick skylark 320\n",
       "2    18.0         plymouth satellite\n",
       "3    16.0              amc rebel sst\n",
       "4    17.0                ford torino\n",
       "..    ...                        ...\n",
       "393  27.0            ford mustang gl\n",
       "394  44.0                  vw pickup\n",
       "395  32.0              dodge rampage\n",
       "396  28.0                ford ranger\n",
       "397  31.0                 chevy s-10\n",
       "\n",
       "[398 rows x 2 columns]"
      ]
     },
     "execution_count": 285,
     "metadata": {},
     "output_type": "execute_result"
    }
   ],
   "source": [
    "df[['mpg','car name']]#Get the name of two columns"
   ]
  },
  {
   "cell_type": "markdown",
   "id": "d7b006c4",
   "metadata": {},
   "source": [
    "# DataFrame to Excel conversion: \n",
    "### This code will create an Excel file named 'output.xlsx' in the same directory as your Python script. You can then open this file on your computer.\n",
    "### Here, the directory will be \"D:\\\\ICT Academy\\\\DataScience\\\\Python\""
   ]
  },
  {
   "cell_type": "code",
   "execution_count": 286,
   "id": "66181c0f-cdf6-4eaa-8c99-9b763ebd6da7",
   "metadata": {},
   "outputs": [],
   "source": [
    "# If you are using VS code you have to install 'openpyxl' before using to_excel() function. To install it use command 'pip install openpyxl' in terminal.\n",
    "new_df=df[['car name','weight']]#Get the content of two columns\n",
    "new_df.to_excel(\"output.xlsx\", sheet_name=\"sheet1\")"
   ]
  },
  {
   "cell_type": "markdown",
   "id": "1a841e21-0628-40ae-a75d-2bdfbe615f3f",
   "metadata": {},
   "source": [
    "# Change order of column "
   ]
  },
  {
   "cell_type": "code",
   "execution_count": 287,
   "id": "8c2b41b1-b2fb-4f93-aa4b-b43df9c1cddd",
   "metadata": {},
   "outputs": [],
   "source": [
    "new_df1=df[['weight','car name']] #Get the content of two columns in the order 'weight', 'car name'\n",
    "new_df1\n",
    "new_df1.to_excel(\"output.xlsx\", sheet_name=\"sheet1\") # Order of columns in the output excel sheet will change.(If excel file is open while executing code, it will result in error: permission denied)"
   ]
  },
  {
   "cell_type": "markdown",
   "id": "80564598",
   "metadata": {},
   "source": [
    "# df.describe() :  Provides summary statistics of a DataFrame. It calculates various descriptive statistics for each numerical column, giving you a quick overview of the data's central tendency, dispersion, and shape."
   ]
  },
  {
   "cell_type": "code",
   "execution_count": 288,
   "id": "ce3d90e6-2232-483b-b98c-7417c160a2fe",
   "metadata": {},
   "outputs": [
    {
     "data": {
      "text/html": [
       "<div>\n",
       "<style scoped>\n",
       "    .dataframe tbody tr th:only-of-type {\n",
       "        vertical-align: middle;\n",
       "    }\n",
       "\n",
       "    .dataframe tbody tr th {\n",
       "        vertical-align: top;\n",
       "    }\n",
       "\n",
       "    .dataframe thead th {\n",
       "        text-align: right;\n",
       "    }\n",
       "</style>\n",
       "<table border=\"1\" class=\"dataframe\">\n",
       "  <thead>\n",
       "    <tr style=\"text-align: right;\">\n",
       "      <th></th>\n",
       "      <th>mpg</th>\n",
       "      <th>cylinders</th>\n",
       "      <th>displacement</th>\n",
       "      <th>weight</th>\n",
       "      <th>acceleration</th>\n",
       "      <th>model year</th>\n",
       "      <th>origin</th>\n",
       "    </tr>\n",
       "  </thead>\n",
       "  <tbody>\n",
       "    <tr>\n",
       "      <th>count</th>\n",
       "      <td>398.000000</td>\n",
       "      <td>398.000000</td>\n",
       "      <td>398.000000</td>\n",
       "      <td>398.000000</td>\n",
       "      <td>398.000000</td>\n",
       "      <td>398.000000</td>\n",
       "      <td>398.000000</td>\n",
       "    </tr>\n",
       "    <tr>\n",
       "      <th>mean</th>\n",
       "      <td>23.514573</td>\n",
       "      <td>5.454774</td>\n",
       "      <td>193.425879</td>\n",
       "      <td>2970.424623</td>\n",
       "      <td>15.568090</td>\n",
       "      <td>76.010050</td>\n",
       "      <td>1.572864</td>\n",
       "    </tr>\n",
       "    <tr>\n",
       "      <th>std</th>\n",
       "      <td>7.815984</td>\n",
       "      <td>1.701004</td>\n",
       "      <td>104.269838</td>\n",
       "      <td>846.841774</td>\n",
       "      <td>2.757689</td>\n",
       "      <td>3.697627</td>\n",
       "      <td>0.802055</td>\n",
       "    </tr>\n",
       "    <tr>\n",
       "      <th>min</th>\n",
       "      <td>9.000000</td>\n",
       "      <td>3.000000</td>\n",
       "      <td>68.000000</td>\n",
       "      <td>1613.000000</td>\n",
       "      <td>8.000000</td>\n",
       "      <td>70.000000</td>\n",
       "      <td>1.000000</td>\n",
       "    </tr>\n",
       "    <tr>\n",
       "      <th>25%</th>\n",
       "      <td>17.500000</td>\n",
       "      <td>4.000000</td>\n",
       "      <td>104.250000</td>\n",
       "      <td>2223.750000</td>\n",
       "      <td>13.825000</td>\n",
       "      <td>73.000000</td>\n",
       "      <td>1.000000</td>\n",
       "    </tr>\n",
       "    <tr>\n",
       "      <th>50%</th>\n",
       "      <td>23.000000</td>\n",
       "      <td>4.000000</td>\n",
       "      <td>148.500000</td>\n",
       "      <td>2803.500000</td>\n",
       "      <td>15.500000</td>\n",
       "      <td>76.000000</td>\n",
       "      <td>1.000000</td>\n",
       "    </tr>\n",
       "    <tr>\n",
       "      <th>75%</th>\n",
       "      <td>29.000000</td>\n",
       "      <td>8.000000</td>\n",
       "      <td>262.000000</td>\n",
       "      <td>3608.000000</td>\n",
       "      <td>17.175000</td>\n",
       "      <td>79.000000</td>\n",
       "      <td>2.000000</td>\n",
       "    </tr>\n",
       "    <tr>\n",
       "      <th>max</th>\n",
       "      <td>46.600000</td>\n",
       "      <td>8.000000</td>\n",
       "      <td>455.000000</td>\n",
       "      <td>5140.000000</td>\n",
       "      <td>24.800000</td>\n",
       "      <td>82.000000</td>\n",
       "      <td>3.000000</td>\n",
       "    </tr>\n",
       "  </tbody>\n",
       "</table>\n",
       "</div>"
      ],
      "text/plain": [
       "              mpg   cylinders  displacement       weight  acceleration  \\\n",
       "count  398.000000  398.000000    398.000000   398.000000    398.000000   \n",
       "mean    23.514573    5.454774    193.425879  2970.424623     15.568090   \n",
       "std      7.815984    1.701004    104.269838   846.841774      2.757689   \n",
       "min      9.000000    3.000000     68.000000  1613.000000      8.000000   \n",
       "25%     17.500000    4.000000    104.250000  2223.750000     13.825000   \n",
       "50%     23.000000    4.000000    148.500000  2803.500000     15.500000   \n",
       "75%     29.000000    8.000000    262.000000  3608.000000     17.175000   \n",
       "max     46.600000    8.000000    455.000000  5140.000000     24.800000   \n",
       "\n",
       "       model year      origin  \n",
       "count  398.000000  398.000000  \n",
       "mean    76.010050    1.572864  \n",
       "std      3.697627    0.802055  \n",
       "min     70.000000    1.000000  \n",
       "25%     73.000000    1.000000  \n",
       "50%     76.000000    1.000000  \n",
       "75%     79.000000    2.000000  \n",
       "max     82.000000    3.000000  "
      ]
     },
     "execution_count": 288,
     "metadata": {},
     "output_type": "execute_result"
    }
   ],
   "source": [
    "df.describe()"
   ]
  },
  {
   "cell_type": "markdown",
   "id": "7fdd2877",
   "metadata": {},
   "source": [
    "## df.info(): Provides a summary of the DataFrame's structure and characteristics, including:\n",
    "### General Information: This typically shows the number of rows and columns in the DataFrame.\n",
    "### Column Information: For each column, it displays:\n",
    "### Column name\n",
    "### Non-null values (count)\n",
    "### Data type\n",
    "### Memory usage"
   ]
  },
  {
   "cell_type": "code",
   "execution_count": 289,
   "id": "52ada7d1-623b-46d8-adb7-87f349a80564",
   "metadata": {},
   "outputs": [
    {
     "name": "stdout",
     "output_type": "stream",
     "text": [
      "<class 'pandas.core.frame.DataFrame'>\n",
      "RangeIndex: 398 entries, 0 to 397\n",
      "Data columns (total 9 columns):\n",
      " #   Column        Non-Null Count  Dtype  \n",
      "---  ------        --------------  -----  \n",
      " 0   mpg           398 non-null    float64\n",
      " 1   cylinders     398 non-null    int64  \n",
      " 2   displacement  398 non-null    float64\n",
      " 3   horsepower    398 non-null    object \n",
      " 4   weight        398 non-null    int64  \n",
      " 5   acceleration  398 non-null    float64\n",
      " 6   model year    398 non-null    int64  \n",
      " 7   origin        398 non-null    int64  \n",
      " 8   car name      398 non-null    object \n",
      "dtypes: float64(3), int64(4), object(2)\n",
      "memory usage: 28.1+ KB\n"
     ]
    }
   ],
   "source": [
    "df.info()"
   ]
  },
  {
   "cell_type": "markdown",
   "id": "b8b0814a",
   "metadata": {},
   "source": [
    "# Read excel file"
   ]
  },
  {
   "cell_type": "code",
   "execution_count": 290,
   "id": "52097437-f5d3-402a-942d-9255fe434071",
   "metadata": {},
   "outputs": [
    {
     "name": "stdout",
     "output_type": "stream",
     "text": [
      "   Unnamed: 0  weight                   car name\n",
      "0           0    3504  chevrolet chevelle malibu\n",
      "1           1    3693          buick skylark 320\n",
      "2           2    3436         plymouth satellite\n",
      "3           3    3433              amc rebel sst\n",
      "4           4    3449                ford torino\n"
     ]
    }
   ],
   "source": [
    "df_excel = pd.read_excel(\"D:\\\\ICT Academy\\\\DataScience\\\\Python\\\\output.xlsx\", sheet_name='sheet1') # read Sheet1 of the excel file 'output.xlsx'.\n",
    "\n",
    "\n",
    "print(df_excel.head()) # Print the first 5 rows"
   ]
  },
  {
   "cell_type": "markdown",
   "id": "42448f7b",
   "metadata": {},
   "source": [
    "# To get number of rows and columns of dataframe:"
   ]
  },
  {
   "cell_type": "code",
   "execution_count": 291,
   "id": "9b42dea6-74bb-449e-9bb0-9ab50e5e3055",
   "metadata": {},
   "outputs": [
    {
     "data": {
      "text/plain": [
       "(398, 9)"
      ]
     },
     "execution_count": 291,
     "metadata": {},
     "output_type": "execute_result"
    }
   ],
   "source": [
    "df.shape "
   ]
  },
  {
   "cell_type": "markdown",
   "id": "660cb5a8",
   "metadata": {},
   "source": [
    "## Grouping and aggregating data within DataFrames."
   ]
  },
  {
   "cell_type": "markdown",
   "id": "a07dd18b",
   "metadata": {},
   "source": [
    "## Key Steps in GroupBy Operations:\n",
    "\n",
    "#### Splitting: The DataFrame is divided into smaller DataFrames based on the specified grouping criteria.\n",
    "#### Applying: A function is applied to each group to perform calculations or transformations.\n",
    "#### Combining: The results from each group are combined to form a new DataFrame or Series.\n",
    "### Common Use Cases:\n",
    "\n",
    "#### Aggregation: Calculating summary statistics for each group (e.g., mean, sum, count).\n",
    "#### Transformation: Applying functions to each group (e.g., normalization, scaling).\n",
    "#### Filtering: Selecting specific groups based on certain conditions."
   ]
  },
  {
   "cell_type": "code",
   "execution_count": 292,
   "id": "7599fb87-dcd8-4631-8424-fa1b1c32bec3",
   "metadata": {},
   "outputs": [
    {
     "name": "stdout",
     "output_type": "stream",
     "text": [
      "City\n",
      "Los Angeles    32.5\n",
      "New York       26.5\n",
      "Name: Age, dtype: float64\n",
      "                     Name  Age\n",
      "City                          \n",
      "Los Angeles      BobDavid   65\n",
      "New York     AliceCharlie   53\n",
      "             Name  Age\n",
      "City                  \n",
      "Los Angeles     2    2\n",
      "New York        2    2\n"
     ]
    }
   ],
   "source": [
    "import pandas as pd\n",
    "\n",
    "# Sample DataFrame\n",
    "data = {'Name': ['Alice', 'Bob', 'Charlie', 'David'],\n",
    "        'Age': [25, 30, 28, 35],\n",
    "        'City': ['New York', 'Los Angeles', 'New York', 'Los Angeles']}\n",
    "df1 = pd.DataFrame(data)\n",
    "\n",
    "# Group by 'City'\n",
    "g1 = df1.groupby('City') # Intermediate representation of the grouping operation. Not printable.\n",
    "\n",
    "# Calculate the mean age for each city\n",
    "print(g1['Age'].mean())\n",
    "#g.transform(lambda x: x - x.mean())  # Subtract the mean from each value in a group. Here we can't apply this as it can't convert string (Bob, David) to numeric value\n",
    "#print(g.transform(lambda x: x - x.mean()))  # Subtract the mean from each value in a group. Here we can't apply this as it can't convert string (Bob, David) to numeric value\n",
    "print(g1.sum())   # Calculate the sum of each group\n",
    "print(g1.count()) # Count the number of rows in each group\n"
   ]
  },
  {
   "cell_type": "markdown",
   "id": "ca808788",
   "metadata": {},
   "source": [
    "## Random Selection: The rows are selected randomly, ensuring a fair representation of the data.\n",
    "##### Sample Size: The number 10 indicates the desired sample size. You can adjust this number to get different sample sizes.\n",
    "##### New DataFrame: The sample() method returns a new DataFrame containing the sampled rows.\n",
    "##### No Replacement: By default, the sampling is done without replacement, meaning a row can only be selected once. (replace=True will activate replacement)\n",
    "##### frac parameter: df.sample(frac=0.5) will sample 50% of the rows."
   ]
  },
  {
   "cell_type": "code",
   "execution_count": 293,
   "id": "e2397c04-9dfe-47a6-868d-977cc8837fbe",
   "metadata": {},
   "outputs": [
    {
     "name": "stdout",
     "output_type": "stream",
     "text": [
      "      mpg  cylinders  displacement horsepower  weight  acceleration  \\\n",
      "5    15.0          8         429.0        198    4341          10.0   \n",
      "47   19.0          6         250.0        100    3282          15.0   \n",
      "253  20.5          6         200.0         95    3155          18.2   \n",
      "251  20.2          8         302.0        139    3570          12.8   \n",
      "150  26.0          4         108.0         93    2391          15.5   \n",
      "137  13.0          8         350.0        150    4699          14.5   \n",
      "12   15.0          8         400.0        150    3761           9.5   \n",
      "164  21.0          6         231.0        110    3039          15.0   \n",
      "107  18.0          6         232.0        100    2789          15.0   \n",
      "187  17.5          8         305.0        140    4215          13.0   \n",
      "\n",
      "     model year  origin                           car name  \n",
      "5            70       1                   ford galaxie 500  \n",
      "47           71       1                   pontiac firebird  \n",
      "253          78       1                   chevrolet malibu  \n",
      "251          78       1               mercury monarch ghia  \n",
      "150          74       3                             subaru  \n",
      "137          74       1           buick century luxus (sw)  \n",
      "12           70       1              chevrolet monte carlo  \n",
      "164          75       1                      buick skyhawk  \n",
      "107          73       1                        amc gremlin  \n",
      "187          76       1  chevrolet chevelle malibu classic  \n"
     ]
    }
   ],
   "source": [
    "df_sample=df.sample(10)\n",
    "print(df_sample)"
   ]
  },
  {
   "cell_type": "code",
   "execution_count": 294,
   "id": "08e2677f-4394-4496-a69f-d255a860ed3c",
   "metadata": {},
   "outputs": [
    {
     "data": {
      "text/plain": [
       "(10, 9)"
      ]
     },
     "execution_count": 294,
     "metadata": {},
     "output_type": "execute_result"
    }
   ],
   "source": [
    "df_sample.shape"
   ]
  },
  {
   "cell_type": "code",
   "execution_count": 295,
   "id": "1ee617a7-c4df-4de8-8429-42e2feb3a68f",
   "metadata": {},
   "outputs": [
    {
     "name": "stdout",
     "output_type": "stream",
     "text": [
      "      mpg  cylinders  displacement horsepower  weight  acceleration  \\\n",
      "101  23.0          6         198.0         95    2904          16.0   \n",
      "75   14.0          8         318.0        150    4077          14.0   \n",
      "356  32.4          4         108.0         75    2350          16.8   \n",
      "239  30.0          4          97.0         67    1985          16.4   \n",
      "372  27.0          4         151.0         90    2735          18.0   \n",
      "..    ...        ...           ...        ...     ...           ...   \n",
      "196  24.5          4          98.0         60    2164          22.1   \n",
      "116  16.0          8         400.0        230    4278           9.5   \n",
      "387  38.0          6         262.0         85    3015          17.0   \n",
      "268  27.2          4         119.0         97    2300          14.7   \n",
      "357  32.9          4         119.0        100    2615          14.8   \n",
      "\n",
      "     model year  origin                           car name  \n",
      "101          73       1                    plymouth duster  \n",
      "75           72       1     plymouth satellite custom (sw)  \n",
      "356          81       3                     toyota corolla  \n",
      "239          77       3                          subaru dl  \n",
      "372          82       1                    pontiac phoenix  \n",
      "..          ...     ...                                ...  \n",
      "196          76       1                    chevrolet woody  \n",
      "116          73       1                 pontiac grand prix  \n",
      "387          82       1  oldsmobile cutlass ciera (diesel)  \n",
      "268          78       3                         datsun 510  \n",
      "357          81       3                       datsun 200sx  \n",
      "\n",
      "[80 rows x 9 columns]\n"
     ]
    }
   ],
   "source": [
    "df_sample1=df.sample(frac=0.2) #random 20% shufled datat\n",
    "print(df_sample1)"
   ]
  },
  {
   "cell_type": "markdown",
   "id": "520f22b8",
   "metadata": {},
   "source": [
    "# Groupby: Example 1"
   ]
  },
  {
   "cell_type": "code",
   "execution_count": 309,
   "id": "53405b7c",
   "metadata": {},
   "outputs": [
    {
     "data": {
      "text/html": [
       "<div>\n",
       "<style scoped>\n",
       "    .dataframe tbody tr th:only-of-type {\n",
       "        vertical-align: middle;\n",
       "    }\n",
       "\n",
       "    .dataframe tbody tr th {\n",
       "        vertical-align: top;\n",
       "    }\n",
       "\n",
       "    .dataframe thead th {\n",
       "        text-align: right;\n",
       "    }\n",
       "</style>\n",
       "<table border=\"1\" class=\"dataframe\">\n",
       "  <thead>\n",
       "    <tr style=\"text-align: right;\">\n",
       "      <th></th>\n",
       "      <th>Model Year</th>\n",
       "      <th>Price</th>\n",
       "      <th>Mileage</th>\n",
       "    </tr>\n",
       "  </thead>\n",
       "  <tbody>\n",
       "    <tr>\n",
       "      <th>0</th>\n",
       "      <td>2023</td>\n",
       "      <td>20000</td>\n",
       "      <td>10000</td>\n",
       "    </tr>\n",
       "    <tr>\n",
       "      <th>1</th>\n",
       "      <td>2023</td>\n",
       "      <td>25000</td>\n",
       "      <td>8000</td>\n",
       "    </tr>\n",
       "    <tr>\n",
       "      <th>2</th>\n",
       "      <td>2024</td>\n",
       "      <td>30000</td>\n",
       "      <td>5000</td>\n",
       "    </tr>\n",
       "    <tr>\n",
       "      <th>3</th>\n",
       "      <td>2024</td>\n",
       "      <td>35000</td>\n",
       "      <td>7000</td>\n",
       "    </tr>\n",
       "  </tbody>\n",
       "</table>\n",
       "</div>"
      ],
      "text/plain": [
       "   Model Year  Price  Mileage\n",
       "0        2023  20000    10000\n",
       "1        2023  25000     8000\n",
       "2        2024  30000     5000\n",
       "3        2024  35000     7000"
      ]
     },
     "metadata": {},
     "output_type": "display_data"
    },
    {
     "name": "stdout",
     "output_type": "stream",
     "text": [
      "            Price  Mileage\n",
      "Model Year                \n",
      "2023        25000    10000\n",
      "2024        35000     7000\n"
     ]
    }
   ],
   "source": [
    "df_sampleData = pd.read_excel(\"D:\\\\ICT Academy\\\\DataScience\\\\Python\\\\Sample_Data.xlsx\", sheet_name='Sheet1') # Location of file 'Sample_Data.xlsx'.\n",
    "display(df_sampleData) \n",
    "g2= df_sampleData.groupby(\"Model Year\")\n",
    "print(g2.max()) # shows the maximum price and mileage for each model year."
   ]
  },
  {
   "cell_type": "code",
   "execution_count": 311,
   "id": "56f48c0f",
   "metadata": {},
   "outputs": [
    {
     "name": "stdout",
     "output_type": "stream",
     "text": [
      "2023\n",
      "   Model Year  Price  Mileage\n",
      "0        2023  20000    10000\n",
      "1        2023  25000     8000\n",
      "2024\n",
      "   Model Year  Price  Mileage\n",
      "2        2024  30000     5000\n",
      "3        2024  35000     7000\n"
     ]
    }
   ],
   "source": [
    "# x represents the group name (in this case, the \"Model Year\"), and model_df1 is a DataFrame containing the rows belonging to that group.\n",
    "for x, model_df1 in g2: # Iterates over each group in the GroupBy object g. \n",
    "    print(x) # Prints the current group name (e.g., 2023, 2024).\n",
    "    print(model_df1) # Prints the DataFrame containing the rows for the current group."
   ]
  },
  {
   "cell_type": "markdown",
   "id": "ccc66565",
   "metadata": {},
   "source": [
    "# Groupby: Example 1"
   ]
  },
  {
   "cell_type": "code",
   "execution_count": 312,
   "id": "2910b739-1f86-48c3-95fb-691c364bead3",
   "metadata": {},
   "outputs": [
    {
     "name": "stdout",
     "output_type": "stream",
     "text": [
      "             mpg  cylinders  displacement horsepower  weight  acceleration  \\\n",
      "model year                                                                   \n",
      "70          27.0          8         455.0         97    4732          20.5   \n",
      "71          35.0          8         400.0          ?    5140          20.5   \n",
      "72          28.0          8         429.0         97    4633          23.5   \n",
      "73          29.0          8         455.0         95    4997          21.0   \n",
      "74          32.0          8         350.0          ?    4699          21.0   \n",
      "75          33.0          8         400.0         98    4668          21.0   \n",
      "76          33.0          8         351.0         95    4380          22.2   \n",
      "77          36.0          8         400.0         98    4335          19.0   \n",
      "78          43.1          8         318.0         97    4080          21.5   \n",
      "79          37.3          8         360.0         90    4360          24.8   \n",
      "80          46.6          6         225.0          ?    3381          23.7   \n",
      "81          39.1          8         350.0          ?    3725          20.7   \n",
      "82          44.0          6         262.0          ?    3035          24.6   \n",
      "\n",
      "            origin                      car name  \n",
      "model year                                        \n",
      "70               3  volkswagen 1131 deluxe sedan  \n",
      "71               3          volkswagen model 111  \n",
      "72               3               volvo 145e (sw)  \n",
      "73               3                   volvo 144ea  \n",
      "74               3             volkswagen dasher  \n",
      "75               3                   volvo 244dl  \n",
      "76               3                     vw rabbit  \n",
      "77               3      volkswagen rabbit custom  \n",
      "78               3                   volvo 264gl  \n",
      "79               3              vw rabbit custom  \n",
      "80               3          vw rabbit c (diesel)  \n",
      "81               3                  volvo diesel  \n",
      "82               3                     vw pickup  \n"
     ]
    }
   ],
   "source": [
    "#df\n",
    "g3= df.groupby(\"model year\")\n",
    "print(g3.max())"
   ]
  },
  {
   "cell_type": "code",
   "execution_count": 313,
   "id": "1fb17152-67db-484c-b288-3234b7b4e81e",
   "metadata": {},
   "outputs": [
    {
     "name": "stdout",
     "output_type": "stream",
     "text": [
      "70\n",
      "     mpg  cylinders  displacement horsepower  weight  acceleration  \\\n",
      "0   18.0          8         307.0        130    3504          12.0   \n",
      "1   15.0          8         350.0        165    3693          11.5   \n",
      "2   18.0          8         318.0        150    3436          11.0   \n",
      "3   16.0          8         304.0        150    3433          12.0   \n",
      "4   17.0          8         302.0        140    3449          10.5   \n",
      "5   15.0          8         429.0        198    4341          10.0   \n",
      "6   14.0          8         454.0        220    4354           9.0   \n",
      "7   14.0          8         440.0        215    4312           8.5   \n",
      "8   14.0          8         455.0        225    4425          10.0   \n",
      "9   15.0          8         390.0        190    3850           8.5   \n",
      "10  15.0          8         383.0        170    3563          10.0   \n",
      "11  14.0          8         340.0        160    3609           8.0   \n",
      "12  15.0          8         400.0        150    3761           9.5   \n",
      "13  14.0          8         455.0        225    3086          10.0   \n",
      "14  24.0          4         113.0         95    2372          15.0   \n",
      "15  22.0          6         198.0         95    2833          15.5   \n",
      "16  18.0          6         199.0         97    2774          15.5   \n",
      "17  21.0          6         200.0         85    2587          16.0   \n",
      "18  27.0          4          97.0         88    2130          14.5   \n",
      "19  26.0          4          97.0         46    1835          20.5   \n",
      "20  25.0          4         110.0         87    2672          17.5   \n",
      "21  24.0          4         107.0         90    2430          14.5   \n",
      "22  25.0          4         104.0         95    2375          17.5   \n",
      "23  26.0          4         121.0        113    2234          12.5   \n",
      "24  21.0          6         199.0         90    2648          15.0   \n",
      "25  10.0          8         360.0        215    4615          14.0   \n",
      "26  10.0          8         307.0        200    4376          15.0   \n",
      "27  11.0          8         318.0        210    4382          13.5   \n",
      "28   9.0          8         304.0        193    4732          18.5   \n",
      "\n",
      "    model year  origin                      car name  \n",
      "0           70       1     chevrolet chevelle malibu  \n",
      "1           70       1             buick skylark 320  \n",
      "2           70       1            plymouth satellite  \n",
      "3           70       1                 amc rebel sst  \n",
      "4           70       1                   ford torino  \n",
      "5           70       1              ford galaxie 500  \n",
      "6           70       1              chevrolet impala  \n",
      "7           70       1             plymouth fury iii  \n",
      "8           70       1              pontiac catalina  \n",
      "9           70       1            amc ambassador dpl  \n",
      "10          70       1           dodge challenger se  \n",
      "11          70       1            plymouth 'cuda 340  \n",
      "12          70       1         chevrolet monte carlo  \n",
      "13          70       1       buick estate wagon (sw)  \n",
      "14          70       3         toyota corona mark ii  \n",
      "15          70       1               plymouth duster  \n",
      "16          70       1                    amc hornet  \n",
      "17          70       1                 ford maverick  \n",
      "18          70       3                  datsun pl510  \n",
      "19          70       2  volkswagen 1131 deluxe sedan  \n",
      "20          70       2                   peugeot 504  \n",
      "21          70       2                   audi 100 ls  \n",
      "22          70       2                      saab 99e  \n",
      "23          70       2                      bmw 2002  \n",
      "24          70       1                   amc gremlin  \n",
      "25          70       1                     ford f250  \n",
      "26          70       1                     chevy c20  \n",
      "27          70       1                    dodge d200  \n",
      "28          70       1                      hi 1200d  \n",
      "71\n",
      "     mpg  cylinders  displacement horsepower  weight  acceleration  \\\n",
      "29  27.0          4          97.0         88    2130          14.5   \n",
      "30  28.0          4         140.0         90    2264          15.5   \n",
      "31  25.0          4         113.0         95    2228          14.0   \n",
      "32  25.0          4          98.0          ?    2046          19.0   \n",
      "33  19.0          6         232.0        100    2634          13.0   \n",
      "34  16.0          6         225.0        105    3439          15.5   \n",
      "35  17.0          6         250.0        100    3329          15.5   \n",
      "36  19.0          6         250.0         88    3302          15.5   \n",
      "37  18.0          6         232.0        100    3288          15.5   \n",
      "38  14.0          8         350.0        165    4209          12.0   \n",
      "39  14.0          8         400.0        175    4464          11.5   \n",
      "40  14.0          8         351.0        153    4154          13.5   \n",
      "41  14.0          8         318.0        150    4096          13.0   \n",
      "42  12.0          8         383.0        180    4955          11.5   \n",
      "43  13.0          8         400.0        170    4746          12.0   \n",
      "44  13.0          8         400.0        175    5140          12.0   \n",
      "45  18.0          6         258.0        110    2962          13.5   \n",
      "46  22.0          4         140.0         72    2408          19.0   \n",
      "47  19.0          6         250.0        100    3282          15.0   \n",
      "48  18.0          6         250.0         88    3139          14.5   \n",
      "49  23.0          4         122.0         86    2220          14.0   \n",
      "50  28.0          4         116.0         90    2123          14.0   \n",
      "51  30.0          4          79.0         70    2074          19.5   \n",
      "52  30.0          4          88.0         76    2065          14.5   \n",
      "53  31.0          4          71.0         65    1773          19.0   \n",
      "54  35.0          4          72.0         69    1613          18.0   \n",
      "55  27.0          4          97.0         60    1834          19.0   \n",
      "56  26.0          4          91.0         70    1955          20.5   \n",
      "\n",
      "    model year  origin                    car name  \n",
      "29          71       3                datsun pl510  \n",
      "30          71       1         chevrolet vega 2300  \n",
      "31          71       3               toyota corona  \n",
      "32          71       1                  ford pinto  \n",
      "33          71       1                 amc gremlin  \n",
      "34          71       1   plymouth satellite custom  \n",
      "35          71       1   chevrolet chevelle malibu  \n",
      "36          71       1             ford torino 500  \n",
      "37          71       1                 amc matador  \n",
      "38          71       1            chevrolet impala  \n",
      "39          71       1   pontiac catalina brougham  \n",
      "40          71       1            ford galaxie 500  \n",
      "41          71       1           plymouth fury iii  \n",
      "42          71       1           dodge monaco (sw)  \n",
      "43          71       1    ford country squire (sw)  \n",
      "44          71       1         pontiac safari (sw)  \n",
      "45          71       1  amc hornet sportabout (sw)  \n",
      "46          71       1         chevrolet vega (sw)  \n",
      "47          71       1            pontiac firebird  \n",
      "48          71       1                ford mustang  \n",
      "49          71       1          mercury capri 2000  \n",
      "50          71       2                   opel 1900  \n",
      "51          71       2                 peugeot 304  \n",
      "52          71       2                   fiat 124b  \n",
      "53          71       3         toyota corolla 1200  \n",
      "54          71       3                 datsun 1200  \n",
      "55          71       2        volkswagen model 111  \n",
      "56          71       1            plymouth cricket  \n",
      "72\n",
      "     mpg  cylinders  displacement horsepower  weight  acceleration  \\\n",
      "57  24.0          4         113.0         95    2278          15.5   \n",
      "58  25.0          4          97.5         80    2126          17.0   \n",
      "59  23.0          4          97.0         54    2254          23.5   \n",
      "60  20.0          4         140.0         90    2408          19.5   \n",
      "61  21.0          4         122.0         86    2226          16.5   \n",
      "62  13.0          8         350.0        165    4274          12.0   \n",
      "63  14.0          8         400.0        175    4385          12.0   \n",
      "64  15.0          8         318.0        150    4135          13.5   \n",
      "65  14.0          8         351.0        153    4129          13.0   \n",
      "66  17.0          8         304.0        150    3672          11.5   \n",
      "67  11.0          8         429.0        208    4633          11.0   \n",
      "68  13.0          8         350.0        155    4502          13.5   \n",
      "69  12.0          8         350.0        160    4456          13.5   \n",
      "70  13.0          8         400.0        190    4422          12.5   \n",
      "71  19.0          3          70.0         97    2330          13.5   \n",
      "72  15.0          8         304.0        150    3892          12.5   \n",
      "73  13.0          8         307.0        130    4098          14.0   \n",
      "74  13.0          8         302.0        140    4294          16.0   \n",
      "75  14.0          8         318.0        150    4077          14.0   \n",
      "76  18.0          4         121.0        112    2933          14.5   \n",
      "77  22.0          4         121.0         76    2511          18.0   \n",
      "78  21.0          4         120.0         87    2979          19.5   \n",
      "79  26.0          4          96.0         69    2189          18.0   \n",
      "80  22.0          4         122.0         86    2395          16.0   \n",
      "81  28.0          4          97.0         92    2288          17.0   \n",
      "82  23.0          4         120.0         97    2506          14.5   \n",
      "83  28.0          4          98.0         80    2164          15.0   \n",
      "84  27.0          4          97.0         88    2100          16.5   \n",
      "\n",
      "    model year  origin                          car name  \n",
      "57          72       3             toyota corona hardtop  \n",
      "58          72       1                dodge colt hardtop  \n",
      "59          72       2                 volkswagen type 3  \n",
      "60          72       1                    chevrolet vega  \n",
      "61          72       1               ford pinto runabout  \n",
      "62          72       1                  chevrolet impala  \n",
      "63          72       1                  pontiac catalina  \n",
      "64          72       1                 plymouth fury iii  \n",
      "65          72       1                  ford galaxie 500  \n",
      "66          72       1                amc ambassador sst  \n",
      "67          72       1                   mercury marquis  \n",
      "68          72       1              buick lesabre custom  \n",
      "69          72       1        oldsmobile delta 88 royale  \n",
      "70          72       1            chrysler newport royal  \n",
      "71          72       3                   mazda rx2 coupe  \n",
      "72          72       1                  amc matador (sw)  \n",
      "73          72       1  chevrolet chevelle concours (sw)  \n",
      "74          72       1             ford gran torino (sw)  \n",
      "75          72       1    plymouth satellite custom (sw)  \n",
      "76          72       2                   volvo 145e (sw)  \n",
      "77          72       2               volkswagen 411 (sw)  \n",
      "78          72       2                  peugeot 504 (sw)  \n",
      "79          72       2                   renault 12 (sw)  \n",
      "80          72       1                   ford pinto (sw)  \n",
      "81          72       3                   datsun 510 (sw)  \n",
      "82          72       3       toyouta corona mark ii (sw)  \n",
      "83          72       1                   dodge colt (sw)  \n",
      "84          72       3          toyota corolla 1600 (sw)  \n",
      "73\n",
      "      mpg  cylinders  displacement horsepower  weight  acceleration  \\\n",
      "85   13.0          8         350.0        175    4100          13.0   \n",
      "86   14.0          8         304.0        150    3672          11.5   \n",
      "87   13.0          8         350.0        145    3988          13.0   \n",
      "88   14.0          8         302.0        137    4042          14.5   \n",
      "89   15.0          8         318.0        150    3777          12.5   \n",
      "90   12.0          8         429.0        198    4952          11.5   \n",
      "91   13.0          8         400.0        150    4464          12.0   \n",
      "92   13.0          8         351.0        158    4363          13.0   \n",
      "93   14.0          8         318.0        150    4237          14.5   \n",
      "94   13.0          8         440.0        215    4735          11.0   \n",
      "95   12.0          8         455.0        225    4951          11.0   \n",
      "96   13.0          8         360.0        175    3821          11.0   \n",
      "97   18.0          6         225.0        105    3121          16.5   \n",
      "98   16.0          6         250.0        100    3278          18.0   \n",
      "99   18.0          6         232.0        100    2945          16.0   \n",
      "100  18.0          6         250.0         88    3021          16.5   \n",
      "101  23.0          6         198.0         95    2904          16.0   \n",
      "102  26.0          4          97.0         46    1950          21.0   \n",
      "103  11.0          8         400.0        150    4997          14.0   \n",
      "104  12.0          8         400.0        167    4906          12.5   \n",
      "105  13.0          8         360.0        170    4654          13.0   \n",
      "106  12.0          8         350.0        180    4499          12.5   \n",
      "107  18.0          6         232.0        100    2789          15.0   \n",
      "108  20.0          4          97.0         88    2279          19.0   \n",
      "109  21.0          4         140.0         72    2401          19.5   \n",
      "110  22.0          4         108.0         94    2379          16.5   \n",
      "111  18.0          3          70.0         90    2124          13.5   \n",
      "112  19.0          4         122.0         85    2310          18.5   \n",
      "113  21.0          6         155.0        107    2472          14.0   \n",
      "114  26.0          4          98.0         90    2265          15.5   \n",
      "115  15.0          8         350.0        145    4082          13.0   \n",
      "116  16.0          8         400.0        230    4278           9.5   \n",
      "117  29.0          4          68.0         49    1867          19.5   \n",
      "118  24.0          4         116.0         75    2158          15.5   \n",
      "119  20.0          4         114.0         91    2582          14.0   \n",
      "120  19.0          4         121.0        112    2868          15.5   \n",
      "121  15.0          8         318.0        150    3399          11.0   \n",
      "122  24.0          4         121.0        110    2660          14.0   \n",
      "123  20.0          6         156.0        122    2807          13.5   \n",
      "124  11.0          8         350.0        180    3664          11.0   \n",
      "\n",
      "     model year  origin                      car name  \n",
      "85           73       1             buick century 350  \n",
      "86           73       1                   amc matador  \n",
      "87           73       1              chevrolet malibu  \n",
      "88           73       1              ford gran torino  \n",
      "89           73       1          dodge coronet custom  \n",
      "90           73       1      mercury marquis brougham  \n",
      "91           73       1     chevrolet caprice classic  \n",
      "92           73       1                      ford ltd  \n",
      "93           73       1      plymouth fury gran sedan  \n",
      "94           73       1  chrysler new yorker brougham  \n",
      "95           73       1      buick electra 225 custom  \n",
      "96           73       1       amc ambassador brougham  \n",
      "97           73       1              plymouth valiant  \n",
      "98           73       1         chevrolet nova custom  \n",
      "99           73       1                    amc hornet  \n",
      "100          73       1                 ford maverick  \n",
      "101          73       1               plymouth duster  \n",
      "102          73       2       volkswagen super beetle  \n",
      "103          73       1              chevrolet impala  \n",
      "104          73       1                  ford country  \n",
      "105          73       1        plymouth custom suburb  \n",
      "106          73       1      oldsmobile vista cruiser  \n",
      "107          73       1                   amc gremlin  \n",
      "108          73       3                 toyota carina  \n",
      "109          73       1                chevrolet vega  \n",
      "110          73       3                    datsun 610  \n",
      "111          73       3                     maxda rx3  \n",
      "112          73       1                    ford pinto  \n",
      "113          73       1              mercury capri v6  \n",
      "114          73       2          fiat 124 sport coupe  \n",
      "115          73       1       chevrolet monte carlo s  \n",
      "116          73       1            pontiac grand prix  \n",
      "117          73       2                      fiat 128  \n",
      "118          73       2                    opel manta  \n",
      "119          73       2                    audi 100ls  \n",
      "120          73       2                   volvo 144ea  \n",
      "121          73       1             dodge dart custom  \n",
      "122          73       2                     saab 99le  \n",
      "123          73       3                toyota mark ii  \n",
      "124          73       1              oldsmobile omega  \n",
      "74\n",
      "      mpg  cylinders  displacement horsepower  weight  acceleration  \\\n",
      "125  20.0          6         198.0         95    3102          16.5   \n",
      "126  21.0          6         200.0          ?    2875          17.0   \n",
      "127  19.0          6         232.0        100    2901          16.0   \n",
      "128  15.0          6         250.0        100    3336          17.0   \n",
      "129  31.0          4          79.0         67    1950          19.0   \n",
      "130  26.0          4         122.0         80    2451          16.5   \n",
      "131  32.0          4          71.0         65    1836          21.0   \n",
      "132  25.0          4         140.0         75    2542          17.0   \n",
      "133  16.0          6         250.0        100    3781          17.0   \n",
      "134  16.0          6         258.0        110    3632          18.0   \n",
      "135  18.0          6         225.0        105    3613          16.5   \n",
      "136  16.0          8         302.0        140    4141          14.0   \n",
      "137  13.0          8         350.0        150    4699          14.5   \n",
      "138  14.0          8         318.0        150    4457          13.5   \n",
      "139  14.0          8         302.0        140    4638          16.0   \n",
      "140  14.0          8         304.0        150    4257          15.5   \n",
      "141  29.0          4          98.0         83    2219          16.5   \n",
      "142  26.0          4          79.0         67    1963          15.5   \n",
      "143  26.0          4          97.0         78    2300          14.5   \n",
      "144  31.0          4          76.0         52    1649          16.5   \n",
      "145  32.0          4          83.0         61    2003          19.0   \n",
      "146  28.0          4          90.0         75    2125          14.5   \n",
      "147  24.0          4          90.0         75    2108          15.5   \n",
      "148  26.0          4         116.0         75    2246          14.0   \n",
      "149  24.0          4         120.0         97    2489          15.0   \n",
      "150  26.0          4         108.0         93    2391          15.5   \n",
      "151  31.0          4          79.0         67    2000          16.0   \n",
      "\n",
      "     model year  origin                           car name  \n",
      "125          74       1                    plymouth duster  \n",
      "126          74       1                      ford maverick  \n",
      "127          74       1                         amc hornet  \n",
      "128          74       1                     chevrolet nova  \n",
      "129          74       3                        datsun b210  \n",
      "130          74       1                         ford pinto  \n",
      "131          74       3                toyota corolla 1200  \n",
      "132          74       1                     chevrolet vega  \n",
      "133          74       1  chevrolet chevelle malibu classic  \n",
      "134          74       1                        amc matador  \n",
      "135          74       1         plymouth satellite sebring  \n",
      "136          74       1                   ford gran torino  \n",
      "137          74       1           buick century luxus (sw)  \n",
      "138          74       1          dodge coronet custom (sw)  \n",
      "139          74       1              ford gran torino (sw)  \n",
      "140          74       1                   amc matador (sw)  \n",
      "141          74       2                           audi fox  \n",
      "142          74       2                  volkswagen dasher  \n",
      "143          74       2                         opel manta  \n",
      "144          74       3                      toyota corona  \n",
      "145          74       3                         datsun 710  \n",
      "146          74       1                         dodge colt  \n",
      "147          74       2                           fiat 128  \n",
      "148          74       2                        fiat 124 tc  \n",
      "149          74       3                        honda civic  \n",
      "150          74       3                             subaru  \n",
      "151          74       2                          fiat x1.9  \n",
      "75\n",
      "      mpg  cylinders  displacement horsepower  weight  acceleration  \\\n",
      "152  19.0          6         225.0         95    3264          16.0   \n",
      "153  18.0          6         250.0        105    3459          16.0   \n",
      "154  15.0          6         250.0         72    3432          21.0   \n",
      "155  15.0          6         250.0         72    3158          19.5   \n",
      "156  16.0          8         400.0        170    4668          11.5   \n",
      "157  15.0          8         350.0        145    4440          14.0   \n",
      "158  16.0          8         318.0        150    4498          14.5   \n",
      "159  14.0          8         351.0        148    4657          13.5   \n",
      "160  17.0          6         231.0        110    3907          21.0   \n",
      "161  16.0          6         250.0        105    3897          18.5   \n",
      "162  15.0          6         258.0        110    3730          19.0   \n",
      "163  18.0          6         225.0         95    3785          19.0   \n",
      "164  21.0          6         231.0        110    3039          15.0   \n",
      "165  20.0          8         262.0        110    3221          13.5   \n",
      "166  13.0          8         302.0        129    3169          12.0   \n",
      "167  29.0          4          97.0         75    2171          16.0   \n",
      "168  23.0          4         140.0         83    2639          17.0   \n",
      "169  20.0          6         232.0        100    2914          16.0   \n",
      "170  23.0          4         140.0         78    2592          18.5   \n",
      "171  24.0          4         134.0         96    2702          13.5   \n",
      "172  25.0          4          90.0         71    2223          16.5   \n",
      "173  24.0          4         119.0         97    2545          17.0   \n",
      "174  18.0          6         171.0         97    2984          14.5   \n",
      "175  29.0          4          90.0         70    1937          14.0   \n",
      "176  19.0          6         232.0         90    3211          17.0   \n",
      "177  23.0          4         115.0         95    2694          15.0   \n",
      "178  23.0          4         120.0         88    2957          17.0   \n",
      "179  22.0          4         121.0         98    2945          14.5   \n",
      "180  25.0          4         121.0        115    2671          13.5   \n",
      "181  33.0          4          91.0         53    1795          17.5   \n",
      "\n",
      "     model year  origin                   car name  \n",
      "152          75       1    plymouth valiant custom  \n",
      "153          75       1             chevrolet nova  \n",
      "154          75       1            mercury monarch  \n",
      "155          75       1              ford maverick  \n",
      "156          75       1           pontiac catalina  \n",
      "157          75       1          chevrolet bel air  \n",
      "158          75       1        plymouth grand fury  \n",
      "159          75       1                   ford ltd  \n",
      "160          75       1              buick century  \n",
      "161          75       1  chevroelt chevelle malibu  \n",
      "162          75       1                amc matador  \n",
      "163          75       1              plymouth fury  \n",
      "164          75       1              buick skyhawk  \n",
      "165          75       1        chevrolet monza 2+2  \n",
      "166          75       1            ford mustang ii  \n",
      "167          75       3             toyota corolla  \n",
      "168          75       1                 ford pinto  \n",
      "169          75       1                amc gremlin  \n",
      "170          75       1              pontiac astro  \n",
      "171          75       3              toyota corona  \n",
      "172          75       2          volkswagen dasher  \n",
      "173          75       3                 datsun 710  \n",
      "174          75       1                 ford pinto  \n",
      "175          75       2          volkswagen rabbit  \n",
      "176          75       1                  amc pacer  \n",
      "177          75       2                 audi 100ls  \n",
      "178          75       2                peugeot 504  \n",
      "179          75       2                volvo 244dl  \n",
      "180          75       2                  saab 99le  \n",
      "181          75       3           honda civic cvcc  \n",
      "76\n",
      "      mpg  cylinders  displacement horsepower  weight  acceleration  \\\n",
      "182  28.0          4         107.0         86    2464          15.5   \n",
      "183  25.0          4         116.0         81    2220          16.9   \n",
      "184  25.0          4         140.0         92    2572          14.9   \n",
      "185  26.0          4          98.0         79    2255          17.7   \n",
      "186  27.0          4         101.0         83    2202          15.3   \n",
      "187  17.5          8         305.0        140    4215          13.0   \n",
      "188  16.0          8         318.0        150    4190          13.0   \n",
      "189  15.5          8         304.0        120    3962          13.9   \n",
      "190  14.5          8         351.0        152    4215          12.8   \n",
      "191  22.0          6         225.0        100    3233          15.4   \n",
      "192  22.0          6         250.0        105    3353          14.5   \n",
      "193  24.0          6         200.0         81    3012          17.6   \n",
      "194  22.5          6         232.0         90    3085          17.6   \n",
      "195  29.0          4          85.0         52    2035          22.2   \n",
      "196  24.5          4          98.0         60    2164          22.1   \n",
      "197  29.0          4          90.0         70    1937          14.2   \n",
      "198  33.0          4          91.0         53    1795          17.4   \n",
      "199  20.0          6         225.0        100    3651          17.7   \n",
      "200  18.0          6         250.0         78    3574          21.0   \n",
      "201  18.5          6         250.0        110    3645          16.2   \n",
      "202  17.5          6         258.0         95    3193          17.8   \n",
      "203  29.5          4          97.0         71    1825          12.2   \n",
      "204  32.0          4          85.0         70    1990          17.0   \n",
      "205  28.0          4          97.0         75    2155          16.4   \n",
      "206  26.5          4         140.0         72    2565          13.6   \n",
      "207  20.0          4         130.0        102    3150          15.7   \n",
      "208  13.0          8         318.0        150    3940          13.2   \n",
      "209  19.0          4         120.0         88    3270          21.9   \n",
      "210  19.0          6         156.0        108    2930          15.5   \n",
      "211  16.5          6         168.0        120    3820          16.7   \n",
      "212  16.5          8         350.0        180    4380          12.1   \n",
      "213  13.0          8         350.0        145    4055          12.0   \n",
      "214  13.0          8         302.0        130    3870          15.0   \n",
      "215  13.0          8         318.0        150    3755          14.0   \n",
      "\n",
      "     model year  origin                           car name  \n",
      "182          76       2                           fiat 131  \n",
      "183          76       2                          opel 1900  \n",
      "184          76       1                           capri ii  \n",
      "185          76       1                         dodge colt  \n",
      "186          76       2                       renault 12tl  \n",
      "187          76       1  chevrolet chevelle malibu classic  \n",
      "188          76       1             dodge coronet brougham  \n",
      "189          76       1                        amc matador  \n",
      "190          76       1                   ford gran torino  \n",
      "191          76       1                   plymouth valiant  \n",
      "192          76       1                     chevrolet nova  \n",
      "193          76       1                      ford maverick  \n",
      "194          76       1                         amc hornet  \n",
      "195          76       1                 chevrolet chevette  \n",
      "196          76       1                    chevrolet woody  \n",
      "197          76       2                          vw rabbit  \n",
      "198          76       3                        honda civic  \n",
      "199          76       1                     dodge aspen se  \n",
      "200          76       1                  ford granada ghia  \n",
      "201          76       1                 pontiac ventura sj  \n",
      "202          76       1                      amc pacer d/l  \n",
      "203          76       2                  volkswagen rabbit  \n",
      "204          76       3                       datsun b-210  \n",
      "205          76       3                     toyota corolla  \n",
      "206          76       1                         ford pinto  \n",
      "207          76       2                          volvo 245  \n",
      "208          76       1         plymouth volare premier v8  \n",
      "209          76       2                        peugeot 504  \n",
      "210          76       3                     toyota mark ii  \n",
      "211          76       2                 mercedes-benz 280s  \n",
      "212          76       1                   cadillac seville  \n",
      "213          76       1                          chevy c10  \n",
      "214          76       1                          ford f108  \n",
      "215          76       1                         dodge d100  \n",
      "77\n",
      "      mpg  cylinders  displacement horsepower  weight  acceleration  \\\n",
      "216  31.5          4          98.0         68    2045          18.5   \n",
      "217  30.0          4         111.0         80    2155          14.8   \n",
      "218  36.0          4          79.0         58    1825          18.6   \n",
      "219  25.5          4         122.0         96    2300          15.5   \n",
      "220  33.5          4          85.0         70    1945          16.8   \n",
      "221  17.5          8         305.0        145    3880          12.5   \n",
      "222  17.0          8         260.0        110    4060          19.0   \n",
      "223  15.5          8         318.0        145    4140          13.7   \n",
      "224  15.0          8         302.0        130    4295          14.9   \n",
      "225  17.5          6         250.0        110    3520          16.4   \n",
      "226  20.5          6         231.0        105    3425          16.9   \n",
      "227  19.0          6         225.0        100    3630          17.7   \n",
      "228  18.5          6         250.0         98    3525          19.0   \n",
      "229  16.0          8         400.0        180    4220          11.1   \n",
      "230  15.5          8         350.0        170    4165          11.4   \n",
      "231  15.5          8         400.0        190    4325          12.2   \n",
      "232  16.0          8         351.0        149    4335          14.5   \n",
      "233  29.0          4          97.0         78    1940          14.5   \n",
      "234  24.5          4         151.0         88    2740          16.0   \n",
      "235  26.0          4          97.0         75    2265          18.2   \n",
      "236  25.5          4         140.0         89    2755          15.8   \n",
      "237  30.5          4          98.0         63    2051          17.0   \n",
      "238  33.5          4          98.0         83    2075          15.9   \n",
      "239  30.0          4          97.0         67    1985          16.4   \n",
      "240  30.5          4          97.0         78    2190          14.1   \n",
      "241  22.0          6         146.0         97    2815          14.5   \n",
      "242  21.5          4         121.0        110    2600          12.8   \n",
      "243  21.5          3          80.0        110    2720          13.5   \n",
      "\n",
      "     model year  origin                      car name  \n",
      "216          77       3             honda accord cvcc  \n",
      "217          77       1       buick opel isuzu deluxe  \n",
      "218          77       2                 renault 5 gtl  \n",
      "219          77       1             plymouth arrow gs  \n",
      "220          77       3         datsun f-10 hatchback  \n",
      "221          77       1     chevrolet caprice classic  \n",
      "222          77       1    oldsmobile cutlass supreme  \n",
      "223          77       1         dodge monaco brougham  \n",
      "224          77       1       mercury cougar brougham  \n",
      "225          77       1            chevrolet concours  \n",
      "226          77       1                 buick skylark  \n",
      "227          77       1        plymouth volare custom  \n",
      "228          77       1                  ford granada  \n",
      "229          77       1         pontiac grand prix lj  \n",
      "230          77       1  chevrolet monte carlo landau  \n",
      "231          77       1              chrysler cordoba  \n",
      "232          77       1              ford thunderbird  \n",
      "233          77       2      volkswagen rabbit custom  \n",
      "234          77       1         pontiac sunbird coupe  \n",
      "235          77       3       toyota corolla liftback  \n",
      "236          77       1           ford mustang ii 2+2  \n",
      "237          77       1            chevrolet chevette  \n",
      "238          77       1                dodge colt m/m  \n",
      "239          77       3                     subaru dl  \n",
      "240          77       2             volkswagen dasher  \n",
      "241          77       3                    datsun 810  \n",
      "242          77       2                      bmw 320i  \n",
      "243          77       3                    mazda rx-4  \n",
      "78\n",
      "      mpg  cylinders  displacement horsepower  weight  acceleration  \\\n",
      "244  43.1          4          90.0         48    1985          21.5   \n",
      "245  36.1          4          98.0         66    1800          14.4   \n",
      "246  32.8          4          78.0         52    1985          19.4   \n",
      "247  39.4          4          85.0         70    2070          18.6   \n",
      "248  36.1          4          91.0         60    1800          16.4   \n",
      "249  19.9          8         260.0        110    3365          15.5   \n",
      "250  19.4          8         318.0        140    3735          13.2   \n",
      "251  20.2          8         302.0        139    3570          12.8   \n",
      "252  19.2          6         231.0        105    3535          19.2   \n",
      "253  20.5          6         200.0         95    3155          18.2   \n",
      "254  20.2          6         200.0         85    2965          15.8   \n",
      "255  25.1          4         140.0         88    2720          15.4   \n",
      "256  20.5          6         225.0        100    3430          17.2   \n",
      "257  19.4          6         232.0         90    3210          17.2   \n",
      "258  20.6          6         231.0        105    3380          15.8   \n",
      "259  20.8          6         200.0         85    3070          16.7   \n",
      "260  18.6          6         225.0        110    3620          18.7   \n",
      "261  18.1          6         258.0        120    3410          15.1   \n",
      "262  19.2          8         305.0        145    3425          13.2   \n",
      "263  17.7          6         231.0        165    3445          13.4   \n",
      "264  18.1          8         302.0        139    3205          11.2   \n",
      "265  17.5          8         318.0        140    4080          13.7   \n",
      "266  30.0          4          98.0         68    2155          16.5   \n",
      "267  27.5          4         134.0         95    2560          14.2   \n",
      "268  27.2          4         119.0         97    2300          14.7   \n",
      "269  30.9          4         105.0         75    2230          14.5   \n",
      "270  21.1          4         134.0         95    2515          14.8   \n",
      "271  23.2          4         156.0        105    2745          16.7   \n",
      "272  23.8          4         151.0         85    2855          17.6   \n",
      "273  23.9          4         119.0         97    2405          14.9   \n",
      "274  20.3          5         131.0        103    2830          15.9   \n",
      "275  17.0          6         163.0        125    3140          13.6   \n",
      "276  21.6          4         121.0        115    2795          15.7   \n",
      "277  16.2          6         163.0        133    3410          15.8   \n",
      "278  31.5          4          89.0         71    1990          14.9   \n",
      "279  29.5          4          98.0         68    2135          16.6   \n",
      "\n",
      "     model year  origin                           car name  \n",
      "244          78       2    volkswagen rabbit custom diesel  \n",
      "245          78       1                        ford fiesta  \n",
      "246          78       3                   mazda glc deluxe  \n",
      "247          78       3                     datsun b210 gx  \n",
      "248          78       3                   honda civic cvcc  \n",
      "249          78       1  oldsmobile cutlass salon brougham  \n",
      "250          78       1                     dodge diplomat  \n",
      "251          78       1               mercury monarch ghia  \n",
      "252          78       1                 pontiac phoenix lj  \n",
      "253          78       1                   chevrolet malibu  \n",
      "254          78       1               ford fairmont (auto)  \n",
      "255          78       1                ford fairmont (man)  \n",
      "256          78       1                    plymouth volare  \n",
      "257          78       1                        amc concord  \n",
      "258          78       1              buick century special  \n",
      "259          78       1                     mercury zephyr  \n",
      "260          78       1                        dodge aspen  \n",
      "261          78       1                    amc concord d/l  \n",
      "262          78       1       chevrolet monte carlo landau  \n",
      "263          78       1    buick regal sport coupe (turbo)  \n",
      "264          78       1                        ford futura  \n",
      "265          78       1                    dodge magnum xe  \n",
      "266          78       1                 chevrolet chevette  \n",
      "267          78       3                      toyota corona  \n",
      "268          78       3                         datsun 510  \n",
      "269          78       1                         dodge omni  \n",
      "270          78       3          toyota celica gt liftback  \n",
      "271          78       1                   plymouth sapporo  \n",
      "272          78       1             oldsmobile starfire sx  \n",
      "273          78       3                      datsun 200-sx  \n",
      "274          78       2                          audi 5000  \n",
      "275          78       2                        volvo 264gl  \n",
      "276          78       2                         saab 99gle  \n",
      "277          78       2                      peugeot 604sl  \n",
      "278          78       2                volkswagen scirocco  \n",
      "279          78       3                    honda accord lx  \n",
      "79\n",
      "      mpg  cylinders  displacement horsepower  weight  acceleration  \\\n",
      "280  21.5          6         231.0        115    3245          15.4   \n",
      "281  19.8          6         200.0         85    2990          18.2   \n",
      "282  22.3          4         140.0         88    2890          17.3   \n",
      "283  20.2          6         232.0         90    3265          18.2   \n",
      "284  20.6          6         225.0        110    3360          16.6   \n",
      "285  17.0          8         305.0        130    3840          15.4   \n",
      "286  17.6          8         302.0        129    3725          13.4   \n",
      "287  16.5          8         351.0        138    3955          13.2   \n",
      "288  18.2          8         318.0        135    3830          15.2   \n",
      "289  16.9          8         350.0        155    4360          14.9   \n",
      "290  15.5          8         351.0        142    4054          14.3   \n",
      "291  19.2          8         267.0        125    3605          15.0   \n",
      "292  18.5          8         360.0        150    3940          13.0   \n",
      "293  31.9          4          89.0         71    1925          14.0   \n",
      "294  34.1          4          86.0         65    1975          15.2   \n",
      "295  35.7          4          98.0         80    1915          14.4   \n",
      "296  27.4          4         121.0         80    2670          15.0   \n",
      "297  25.4          5         183.0         77    3530          20.1   \n",
      "298  23.0          8         350.0        125    3900          17.4   \n",
      "299  27.2          4         141.0         71    3190          24.8   \n",
      "300  23.9          8         260.0         90    3420          22.2   \n",
      "301  34.2          4         105.0         70    2200          13.2   \n",
      "302  34.5          4         105.0         70    2150          14.9   \n",
      "303  31.8          4          85.0         65    2020          19.2   \n",
      "304  37.3          4          91.0         69    2130          14.7   \n",
      "305  28.4          4         151.0         90    2670          16.0   \n",
      "306  28.8          6         173.0        115    2595          11.3   \n",
      "307  26.8          6         173.0        115    2700          12.9   \n",
      "308  33.5          4         151.0         90    2556          13.2   \n",
      "\n",
      "     model year  origin                              car name  \n",
      "280          79       1                     pontiac lemans v6  \n",
      "281          79       1                      mercury zephyr 6  \n",
      "282          79       1                       ford fairmont 4  \n",
      "283          79       1                      amc concord dl 6  \n",
      "284          79       1                         dodge aspen 6  \n",
      "285          79       1             chevrolet caprice classic  \n",
      "286          79       1                       ford ltd landau  \n",
      "287          79       1                 mercury grand marquis  \n",
      "288          79       1                       dodge st. regis  \n",
      "289          79       1               buick estate wagon (sw)  \n",
      "290          79       1              ford country squire (sw)  \n",
      "291          79       1         chevrolet malibu classic (sw)  \n",
      "292          79       1  chrysler lebaron town @ country (sw)  \n",
      "293          79       2                      vw rabbit custom  \n",
      "294          79       3                      maxda glc deluxe  \n",
      "295          79       1           dodge colt hatchback custom  \n",
      "296          79       1                         amc spirit dl  \n",
      "297          79       2                    mercedes benz 300d  \n",
      "298          79       1                     cadillac eldorado  \n",
      "299          79       2                           peugeot 504  \n",
      "300          79       1     oldsmobile cutlass salon brougham  \n",
      "301          79       1                      plymouth horizon  \n",
      "302          79       1                  plymouth horizon tc3  \n",
      "303          79       3                            datsun 210  \n",
      "304          79       2                    fiat strada custom  \n",
      "305          79       1                 buick skylark limited  \n",
      "306          79       1                    chevrolet citation  \n",
      "307          79       1             oldsmobile omega brougham  \n",
      "308          79       1                       pontiac phoenix  \n",
      "80\n",
      "      mpg  cylinders  displacement horsepower  weight  acceleration  \\\n",
      "309  41.5          4          98.0         76    2144          14.7   \n",
      "310  38.1          4          89.0         60    1968          18.8   \n",
      "311  32.1          4          98.0         70    2120          15.5   \n",
      "312  37.2          4          86.0         65    2019          16.4   \n",
      "313  28.0          4         151.0         90    2678          16.5   \n",
      "314  26.4          4         140.0         88    2870          18.1   \n",
      "315  24.3          4         151.0         90    3003          20.1   \n",
      "316  19.1          6         225.0         90    3381          18.7   \n",
      "317  34.3          4          97.0         78    2188          15.8   \n",
      "318  29.8          4         134.0         90    2711          15.5   \n",
      "319  31.3          4         120.0         75    2542          17.5   \n",
      "320  37.0          4         119.0         92    2434          15.0   \n",
      "321  32.2          4         108.0         75    2265          15.2   \n",
      "322  46.6          4          86.0         65    2110          17.9   \n",
      "323  27.9          4         156.0        105    2800          14.4   \n",
      "324  40.8          4          85.0         65    2110          19.2   \n",
      "325  44.3          4          90.0         48    2085          21.7   \n",
      "326  43.4          4          90.0         48    2335          23.7   \n",
      "327  36.4          5         121.0         67    2950          19.9   \n",
      "328  30.0          4         146.0         67    3250          21.8   \n",
      "329  44.6          4          91.0         67    1850          13.8   \n",
      "330  40.9          4          85.0          ?    1835          17.3   \n",
      "331  33.8          4          97.0         67    2145          18.0   \n",
      "332  29.8          4          89.0         62    1845          15.3   \n",
      "333  32.7          6         168.0        132    2910          11.4   \n",
      "334  23.7          3          70.0        100    2420          12.5   \n",
      "335  35.0          4         122.0         88    2500          15.1   \n",
      "336  23.6          4         140.0          ?    2905          14.3   \n",
      "337  32.4          4         107.0         72    2290          17.0   \n",
      "\n",
      "     model year  origin                car name  \n",
      "309          80       2               vw rabbit  \n",
      "310          80       3   toyota corolla tercel  \n",
      "311          80       1      chevrolet chevette  \n",
      "312          80       3              datsun 310  \n",
      "313          80       1      chevrolet citation  \n",
      "314          80       1           ford fairmont  \n",
      "315          80       1             amc concord  \n",
      "316          80       1             dodge aspen  \n",
      "317          80       2               audi 4000  \n",
      "318          80       3  toyota corona liftback  \n",
      "319          80       3               mazda 626  \n",
      "320          80       3    datsun 510 hatchback  \n",
      "321          80       3          toyota corolla  \n",
      "322          80       3               mazda glc  \n",
      "323          80       1              dodge colt  \n",
      "324          80       3              datsun 210  \n",
      "325          80       2    vw rabbit c (diesel)  \n",
      "326          80       2      vw dasher (diesel)  \n",
      "327          80       2     audi 5000s (diesel)  \n",
      "328          80       2      mercedes-benz 240d  \n",
      "329          80       3     honda civic 1500 gl  \n",
      "330          80       2    renault lecar deluxe  \n",
      "331          80       3               subaru dl  \n",
      "332          80       2        vokswagen rabbit  \n",
      "333          80       3           datsun 280-zx  \n",
      "334          80       3           mazda rx-7 gs  \n",
      "335          80       2       triumph tr7 coupe  \n",
      "336          80       1      ford mustang cobra  \n",
      "337          80       3            honda accord  \n",
      "81\n",
      "      mpg  cylinders  displacement horsepower  weight  acceleration  \\\n",
      "338  27.2          4         135.0         84    2490          15.7   \n",
      "339  26.6          4         151.0         84    2635          16.4   \n",
      "340  25.8          4         156.0         92    2620          14.4   \n",
      "341  23.5          6         173.0        110    2725          12.6   \n",
      "342  30.0          4         135.0         84    2385          12.9   \n",
      "343  39.1          4          79.0         58    1755          16.9   \n",
      "344  39.0          4          86.0         64    1875          16.4   \n",
      "345  35.1          4          81.0         60    1760          16.1   \n",
      "346  32.3          4          97.0         67    2065          17.8   \n",
      "347  37.0          4          85.0         65    1975          19.4   \n",
      "348  37.7          4          89.0         62    2050          17.3   \n",
      "349  34.1          4          91.0         68    1985          16.0   \n",
      "350  34.7          4         105.0         63    2215          14.9   \n",
      "351  34.4          4          98.0         65    2045          16.2   \n",
      "352  29.9          4          98.0         65    2380          20.7   \n",
      "353  33.0          4         105.0         74    2190          14.2   \n",
      "354  34.5          4         100.0          ?    2320          15.8   \n",
      "355  33.7          4         107.0         75    2210          14.4   \n",
      "356  32.4          4         108.0         75    2350          16.8   \n",
      "357  32.9          4         119.0        100    2615          14.8   \n",
      "358  31.6          4         120.0         74    2635          18.3   \n",
      "359  28.1          4         141.0         80    3230          20.4   \n",
      "360  30.7          6         145.0         76    3160          19.6   \n",
      "361  25.4          6         168.0        116    2900          12.6   \n",
      "362  24.2          6         146.0        120    2930          13.8   \n",
      "363  22.4          6         231.0        110    3415          15.8   \n",
      "364  26.6          8         350.0        105    3725          19.0   \n",
      "365  20.2          6         200.0         88    3060          17.1   \n",
      "366  17.6          6         225.0         85    3465          16.6   \n",
      "\n",
      "     model year  origin                   car name  \n",
      "338          81       1           plymouth reliant  \n",
      "339          81       1              buick skylark  \n",
      "340          81       1     dodge aries wagon (sw)  \n",
      "341          81       1         chevrolet citation  \n",
      "342          81       1           plymouth reliant  \n",
      "343          81       3             toyota starlet  \n",
      "344          81       1             plymouth champ  \n",
      "345          81       3           honda civic 1300  \n",
      "346          81       3                     subaru  \n",
      "347          81       3             datsun 210 mpg  \n",
      "348          81       3              toyota tercel  \n",
      "349          81       3                mazda glc 4  \n",
      "350          81       1         plymouth horizon 4  \n",
      "351          81       1             ford escort 4w  \n",
      "352          81       1             ford escort 2h  \n",
      "353          81       2           volkswagen jetta  \n",
      "354          81       2                renault 18i  \n",
      "355          81       3              honda prelude  \n",
      "356          81       3             toyota corolla  \n",
      "357          81       3               datsun 200sx  \n",
      "358          81       3                  mazda 626  \n",
      "359          81       2  peugeot 505s turbo diesel  \n",
      "360          81       2               volvo diesel  \n",
      "361          81       3            toyota cressida  \n",
      "362          81       3          datsun 810 maxima  \n",
      "363          81       1              buick century  \n",
      "364          81       1      oldsmobile cutlass ls  \n",
      "365          81       1            ford granada gl  \n",
      "366          81       1     chrysler lebaron salon  \n",
      "82\n",
      "      mpg  cylinders  displacement horsepower  weight  acceleration  \\\n",
      "367  28.0          4         112.0         88    2605          19.6   \n",
      "368  27.0          4         112.0         88    2640          18.6   \n",
      "369  34.0          4         112.0         88    2395          18.0   \n",
      "370  31.0          4         112.0         85    2575          16.2   \n",
      "371  29.0          4         135.0         84    2525          16.0   \n",
      "372  27.0          4         151.0         90    2735          18.0   \n",
      "373  24.0          4         140.0         92    2865          16.4   \n",
      "374  23.0          4         151.0          ?    3035          20.5   \n",
      "375  36.0          4         105.0         74    1980          15.3   \n",
      "376  37.0          4          91.0         68    2025          18.2   \n",
      "377  31.0          4          91.0         68    1970          17.6   \n",
      "378  38.0          4         105.0         63    2125          14.7   \n",
      "379  36.0          4          98.0         70    2125          17.3   \n",
      "380  36.0          4         120.0         88    2160          14.5   \n",
      "381  36.0          4         107.0         75    2205          14.5   \n",
      "382  34.0          4         108.0         70    2245          16.9   \n",
      "383  38.0          4          91.0         67    1965          15.0   \n",
      "384  32.0          4          91.0         67    1965          15.7   \n",
      "385  38.0          4          91.0         67    1995          16.2   \n",
      "386  25.0          6         181.0        110    2945          16.4   \n",
      "387  38.0          6         262.0         85    3015          17.0   \n",
      "388  26.0          4         156.0         92    2585          14.5   \n",
      "389  22.0          6         232.0        112    2835          14.7   \n",
      "390  32.0          4         144.0         96    2665          13.9   \n",
      "391  36.0          4         135.0         84    2370          13.0   \n",
      "392  27.0          4         151.0         90    2950          17.3   \n",
      "393  27.0          4         140.0         86    2790          15.6   \n",
      "394  44.0          4          97.0         52    2130          24.6   \n",
      "395  32.0          4         135.0         84    2295          11.6   \n",
      "396  28.0          4         120.0         79    2625          18.6   \n",
      "397  31.0          4         119.0         82    2720          19.4   \n",
      "\n",
      "     model year  origin                           car name  \n",
      "367          82       1                 chevrolet cavalier  \n",
      "368          82       1           chevrolet cavalier wagon  \n",
      "369          82       1          chevrolet cavalier 2-door  \n",
      "370          82       1         pontiac j2000 se hatchback  \n",
      "371          82       1                     dodge aries se  \n",
      "372          82       1                    pontiac phoenix  \n",
      "373          82       1               ford fairmont futura  \n",
      "374          82       1                     amc concord dl  \n",
      "375          82       2                volkswagen rabbit l  \n",
      "376          82       3                 mazda glc custom l  \n",
      "377          82       3                   mazda glc custom  \n",
      "378          82       1             plymouth horizon miser  \n",
      "379          82       1                     mercury lynx l  \n",
      "380          82       3                   nissan stanza xe  \n",
      "381          82       3                       honda accord  \n",
      "382          82       3                     toyota corolla  \n",
      "383          82       3                        honda civic  \n",
      "384          82       3                 honda civic (auto)  \n",
      "385          82       3                      datsun 310 gx  \n",
      "386          82       1              buick century limited  \n",
      "387          82       1  oldsmobile cutlass ciera (diesel)  \n",
      "388          82       1         chrysler lebaron medallion  \n",
      "389          82       1                     ford granada l  \n",
      "390          82       3                   toyota celica gt  \n",
      "391          82       1                  dodge charger 2.2  \n",
      "392          82       1                   chevrolet camaro  \n",
      "393          82       1                    ford mustang gl  \n",
      "394          82       2                          vw pickup  \n",
      "395          82       1                      dodge rampage  \n",
      "396          82       1                        ford ranger  \n",
      "397          82       1                         chevy s-10  \n"
     ]
    }
   ],
   "source": [
    "for x, model_df2 in g3:\n",
    "    print(x)\n",
    "    print(model_df2)"
   ]
  },
  {
   "cell_type": "markdown",
   "id": "d2fdcc76",
   "metadata": {},
   "source": [
    "# Concatenation"
   ]
  },
  {
   "cell_type": "code",
   "execution_count": null,
   "id": "5ad6086a-62ae-4e37-a8c9-87b101824bd9",
   "metadata": {},
   "outputs": [
    {
     "name": "stdout",
     "output_type": "stream",
     "text": [
      "      City  Temperature  Humidity\n",
      "0       NY           21        68\n",
      "1  Chicago           14        65\n",
      "2   Seatle           35        75\n",
      "         City  Temperature  Humidity\n",
      "0      Mumbai           30        54\n",
      "1       Delhi           21        75\n",
      "2  Trivandrum           22        35\n",
      "         City  Temperature  Humidity\n",
      "0          NY           21        68\n",
      "1     Chicago           14        65\n",
      "2      Seatle           35        75\n",
      "3      Mumbai           30        54\n",
      "4       Delhi           21        75\n",
      "5  Trivandrum           22        35\n"
     ]
    }
   ],
   "source": [
    "us_weather= pd.DataFrame({\"City\":[\"NY\",\"Chicago\",\"Seatle\"],\n",
    "                          \"Temperature\":[21,14,35],\n",
    "                         \"Humidity\": [68,65,75]})\n",
    "india_weather= pd.DataFrame({\"City\":[\"Mumbai\",\"Delhi\",\"Trivandrum\"],\n",
    "                              \"Temperature\":[30,21,22],\n",
    "                         \"Humidity\":[54,75,35]})\n",
    "print(us_weather)\n",
    "print(india_weather)\n",
    "weather_us_india=pd.concat([us_weather,india_weather],\\\n",
    "                           ignore_index=True) # Combine two data frames #Ignore index avoids the repetition of indices.\n",
    "print(weather_us_india)"
   ]
  },
  {
   "cell_type": "code",
   "execution_count": null,
   "id": "60fd9d87-fae8-442e-bf1f-80bd51234707",
   "metadata": {},
   "outputs": [
    {
     "data": {
      "text/plain": [
       "0     True\n",
       "1     True\n",
       "2    False\n",
       "3    False\n",
       "4     True\n",
       "5     True\n",
       "Name: Temperature, dtype: bool"
      ]
     },
     "execution_count": 436,
     "metadata": {},
     "output_type": "execute_result"
    }
   ],
   "source": [
    "weather_us_india[\"Temperature\"]<30 # Result as boolean values. Acts as a mask to filter the DataFrame."
   ]
  },
  {
   "cell_type": "code",
   "execution_count": 318,
   "id": "24ea5cf1-2dc0-4852-b216-9ddbe03d827c",
   "metadata": {},
   "outputs": [
    {
     "data": {
      "text/html": [
       "<div>\n",
       "<style scoped>\n",
       "    .dataframe tbody tr th:only-of-type {\n",
       "        vertical-align: middle;\n",
       "    }\n",
       "\n",
       "    .dataframe tbody tr th {\n",
       "        vertical-align: top;\n",
       "    }\n",
       "\n",
       "    .dataframe thead th {\n",
       "        text-align: right;\n",
       "    }\n",
       "</style>\n",
       "<table border=\"1\" class=\"dataframe\">\n",
       "  <thead>\n",
       "    <tr style=\"text-align: right;\">\n",
       "      <th></th>\n",
       "      <th>City</th>\n",
       "      <th>Temperature</th>\n",
       "      <th>Humidity</th>\n",
       "    </tr>\n",
       "  </thead>\n",
       "  <tbody>\n",
       "    <tr>\n",
       "      <th>0</th>\n",
       "      <td>NY</td>\n",
       "      <td>21</td>\n",
       "      <td>68</td>\n",
       "    </tr>\n",
       "    <tr>\n",
       "      <th>1</th>\n",
       "      <td>Chicago</td>\n",
       "      <td>14</td>\n",
       "      <td>65</td>\n",
       "    </tr>\n",
       "    <tr>\n",
       "      <th>4</th>\n",
       "      <td>Delhi</td>\n",
       "      <td>21</td>\n",
       "      <td>75</td>\n",
       "    </tr>\n",
       "    <tr>\n",
       "      <th>5</th>\n",
       "      <td>Trivandrum</td>\n",
       "      <td>22</td>\n",
       "      <td>35</td>\n",
       "    </tr>\n",
       "  </tbody>\n",
       "</table>\n",
       "</div>"
      ],
      "text/plain": [
       "         City  Temperature  Humidity\n",
       "0          NY           21        68\n",
       "1     Chicago           14        65\n",
       "4       Delhi           21        75\n",
       "5  Trivandrum           22        35"
      ]
     },
     "execution_count": 318,
     "metadata": {},
     "output_type": "execute_result"
    }
   ],
   "source": [
    "weather_us_india[weather_us_india[\"Temperature\"]<30]  # Filters the DataFrame based on the boolean mask created in the previous step."
   ]
  },
  {
   "cell_type": "markdown",
   "id": "bdad325c",
   "metadata": {},
   "source": [
    "### Column-wise concatenation (axis=1): columns of the two DataFrames will be combined side-by-side."
   ]
  },
  {
   "cell_type": "code",
   "execution_count": 319,
   "id": "64c2a7b7-a394-4729-843c-e459c8b348af",
   "metadata": {},
   "outputs": [
    {
     "name": "stdout",
     "output_type": "stream",
     "text": [
      "         0   1   2           3   4   5\n",
      "0       NY  21  68      Mumbai  30  54\n",
      "1  Chicago  14  65       Delhi  21  75\n",
      "2   Seatle  35  75  Trivandrum  22  35\n"
     ]
    }
   ],
   "source": [
    "weather_us_india=pd.concat([us_weather,india_weather],\\\n",
    "                           ignore_index=True,axis=1) # axis=1:Column-wise concatenation (columns of the two DataFrames will be combined side-by-side.)\n",
    "print(weather_us_india)"
   ]
  },
  {
   "cell_type": "markdown",
   "id": "2cb09466",
   "metadata": {},
   "source": [
    "## Matching and Merging: \n",
    "#### The merge() function finds rows with matching \"Temperature\" values in both DataFrames.\n",
    "#### Merging: It combines the rows with matching \"Temperature\" values into a single row in the resulting DataFrame."
   ]
  },
  {
   "cell_type": "code",
   "execution_count": null,
   "id": "2d9458b0-9c2a-4366-a6d8-6eac466d6600",
   "metadata": {},
   "outputs": [
    {
     "data": {
      "text/html": [
       "<div>\n",
       "<style scoped>\n",
       "    .dataframe tbody tr th:only-of-type {\n",
       "        vertical-align: middle;\n",
       "    }\n",
       "\n",
       "    .dataframe tbody tr th {\n",
       "        vertical-align: top;\n",
       "    }\n",
       "\n",
       "    .dataframe thead th {\n",
       "        text-align: right;\n",
       "    }\n",
       "</style>\n",
       "<table border=\"1\" class=\"dataframe\">\n",
       "  <thead>\n",
       "    <tr style=\"text-align: right;\">\n",
       "      <th></th>\n",
       "      <th>City_x</th>\n",
       "      <th>Temperature</th>\n",
       "      <th>Humidity_x</th>\n",
       "      <th>City_y</th>\n",
       "      <th>Humidity_y</th>\n",
       "    </tr>\n",
       "  </thead>\n",
       "  <tbody>\n",
       "    <tr>\n",
       "      <th>0</th>\n",
       "      <td>Delhi</td>\n",
       "      <td>21</td>\n",
       "      <td>75</td>\n",
       "      <td>NY</td>\n",
       "      <td>68</td>\n",
       "    </tr>\n",
       "  </tbody>\n",
       "</table>\n",
       "</div>"
      ],
      "text/plain": [
       "  City_x  Temperature  Humidity_x City_y  Humidity_y\n",
       "0  Delhi           21          75     NY          68"
      ]
     },
     "execution_count": 442,
     "metadata": {},
     "output_type": "execute_result"
    }
   ],
   "source": [
    "pd.merge(india_weather,us_weather, on=\"Temperature\") #Shows places that have same temperature"
   ]
  },
  {
   "cell_type": "markdown",
   "id": "f459093a",
   "metadata": {},
   "source": [
    "## Custom indexing/ Label based indexing"
   ]
  },
  {
   "cell_type": "code",
   "execution_count": 321,
   "id": "8b898827-5b1a-4d27-a199-67e4d34852a3",
   "metadata": {},
   "outputs": [
    {
     "data": {
      "text/plain": [
       "0    4\n",
       "Name: 45, dtype: int64"
      ]
     },
     "execution_count": 321,
     "metadata": {},
     "output_type": "execute_result"
    }
   ],
   "source": [
    "df=pd.DataFrame([1,2,3,4], index=[48,43,21,45])# creates a DataFrame with a single column of values [1, 2, 3, 4] and a custom index [48, 43, 21, 45].\n",
    "df.loc[45] # Accesses the row with the index label 45.\n",
    "# Question: Why output still shows 0 as index?"
   ]
  },
  {
   "cell_type": "markdown",
   "id": "52f3153e-da14-4a1f-8d42-6a5a38a89822",
   "metadata": {},
   "source": [
    "# Series : One-dimensional array-like object that can hold various data types. Often used to represent a single column of data."
   ]
  },
  {
   "cell_type": "markdown",
   "id": "11ca1340",
   "metadata": {},
   "source": [
    "### Creating series"
   ]
  },
  {
   "cell_type": "code",
   "execution_count": 367,
   "id": "cf907023",
   "metadata": {},
   "outputs": [],
   "source": [
    "# Create a Series from a list\n",
    "s1 = pd.Series([1, 2, 3, 4, 5])\n",
    "\n",
    "# Create a Series with a custom index\n",
    "s2 = pd.Series([10, 20, 30], index=['a', 'b', 'c'])\n",
    "\n",
    "# Create a Series from a dictionary\n",
    "s3 = pd.Series({'A': 100, 'B': 200, 'C': 300})"
   ]
  },
  {
   "cell_type": "markdown",
   "id": "b5fcf3f5",
   "metadata": {},
   "source": [
    "### Accessing elements of series"
   ]
  },
  {
   "cell_type": "code",
   "execution_count": 368,
   "id": "3ecc23cf",
   "metadata": {},
   "outputs": [
    {
     "name": "stdout",
     "output_type": "stream",
     "text": [
      "1\n",
      "20\n",
      "1    2\n",
      "2    3\n",
      "3    4\n",
      "dtype: int64\n"
     ]
    }
   ],
   "source": [
    "# Accessing by index position\n",
    "print(s1[0])  # Output: 1\n",
    "\n",
    "# Accessing by index label\n",
    "print(s2['b'])  # Output: 20\n",
    "\n",
    "# Slicing\n",
    "print(s1[1:4])  # Output: 2    2\n",
    "                # 3    3\n",
    "                # 4    4\n",
    "                # dtype: int64"
   ]
  },
  {
   "cell_type": "markdown",
   "id": "483837b2",
   "metadata": {},
   "source": [
    "### Operartions on series"
   ]
  },
  {
   "cell_type": "code",
   "execution_count": 370,
   "id": "081dfb21",
   "metadata": {},
   "outputs": [
    {
     "name": "stdout",
     "output_type": "stream",
     "text": [
      "0    3\n",
      "1    4\n",
      "2    5\n",
      "3    6\n",
      "4    7\n",
      "dtype: int64\n"
     ]
    }
   ],
   "source": [
    "# Arithmetic operations\n",
    "print(s1 + 2)\n"
   ]
  },
  {
   "cell_type": "code",
   "execution_count": 371,
   "id": "5daeaf04",
   "metadata": {},
   "outputs": [
    {
     "name": "stdout",
     "output_type": "stream",
     "text": [
      "3.0\n",
      "1.5811388300841898\n"
     ]
    }
   ],
   "source": [
    "# Statistical calculations\n",
    "print(s1.mean())\n",
    "print(s1.std())"
   ]
  },
  {
   "cell_type": "code",
   "execution_count": 373,
   "id": "04179186",
   "metadata": {},
   "outputs": [
    {
     "name": "stdout",
     "output_type": "stream",
     "text": [
      "2    3\n",
      "3    4\n",
      "4    5\n",
      "dtype: int64\n"
     ]
    }
   ],
   "source": [
    "# Filtering\n",
    "print(s1[s1 > 2])"
   ]
  },
  {
   "cell_type": "code",
   "execution_count": 374,
   "id": "0216e9a8",
   "metadata": {},
   "outputs": [
    {
     "name": "stdout",
     "output_type": "stream",
     "text": [
      "0    1\n",
      "1    2\n",
      "2    3\n",
      "3    4\n",
      "4    5\n",
      "dtype: int64\n"
     ]
    }
   ],
   "source": [
    "# Sorting\n",
    "print(s1.sort_values())"
   ]
  },
  {
   "cell_type": "markdown",
   "id": "e8a1c96b-9f37-4814-b76c-57e3b16ff684",
   "metadata": {},
   "source": [
    "# Missing value"
   ]
  },
  {
   "cell_type": "code",
   "execution_count": 379,
   "id": "1ddd7023",
   "metadata": {},
   "outputs": [
    {
     "name": "stdout",
     "output_type": "stream",
     "text": [
      "day1    12.0\n",
      "day2     NaN\n",
      "day3     7.0\n",
      "day4     9.0\n",
      "dtype: float64\n"
     ]
    }
   ],
   "source": [
    "city1=pd.Series([12,np.nan,7,9],index=[\"day1\",\"day2\",\"day3\",\"day4\"])\n",
    "print(city1)"
   ]
  },
  {
   "cell_type": "code",
   "execution_count": 381,
   "id": "379bf77b-0523-4186-8c7d-d0f5af2043d2",
   "metadata": {},
   "outputs": [
    {
     "data": {
      "text/plain": [
       "day1    False\n",
       "day2     True\n",
       "day3    False\n",
       "day4    False\n",
       "dtype: bool"
      ]
     },
     "execution_count": 381,
     "metadata": {},
     "output_type": "execute_result"
    }
   ],
   "source": [
    "city1.isna() # Returns a Series with True for missing values and False for non-missing values."
   ]
  },
  {
   "cell_type": "markdown",
   "id": "ae6e0458",
   "metadata": {},
   "source": [
    "# Calculate the sum of the non-null values"
   ]
  },
  {
   "cell_type": "code",
   "execution_count": 384,
   "id": "eb20f5cc-b8ab-48a0-bb2c-d7de841d8d45",
   "metadata": {},
   "outputs": [
    {
     "name": "stdout",
     "output_type": "stream",
     "text": [
      "day1    7.0\n",
      "day2    NaN\n",
      "day3    5.0\n",
      "day4    NaN\n",
      "dtype: float64\n"
     ]
    },
    {
     "data": {
      "text/plain": [
       "np.float64(12.0)"
      ]
     },
     "execution_count": 384,
     "metadata": {},
     "output_type": "execute_result"
    }
   ],
   "source": [
    "y=pd.Series([7,np.nan,5,np.nan],index=[\"day1\",\"day2\",\"day3\",\"day4\"])\n",
    "print(y)\n",
    "y.sum ()"
   ]
  },
  {
   "cell_type": "markdown",
   "id": "c4dcb696",
   "metadata": {},
   "source": [
    "### Remove missing values:"
   ]
  },
  {
   "cell_type": "markdown",
   "id": "308120d5",
   "metadata": {},
   "source": [
    "##### The ~ operator inverts the Boolean Series. So, it becomes True for non-missing values and False for missing values.\n",
    "\n",
    "##### city1[~city1.isna()]: This part uses Boolean indexing to select only the elements from city1 where the corresponding value in the inverted Boolean Series is True. In other words, it filters out the missing values."
   ]
  },
  {
   "cell_type": "code",
   "execution_count": 385,
   "id": "47d8d490-152f-4cb5-b6bc-05ea4eedf75d",
   "metadata": {},
   "outputs": [
    {
     "data": {
      "text/plain": [
       "day1    12.0\n",
       "day3     7.0\n",
       "day4     9.0\n",
       "dtype: float64"
      ]
     },
     "execution_count": 385,
     "metadata": {},
     "output_type": "execute_result"
    }
   ],
   "source": [
    "city1[~city1.isna()]"
   ]
  },
  {
   "cell_type": "code",
   "execution_count": 495,
   "id": "fc20ea0c-da35-4c53-943b-0ab21838eb53",
   "metadata": {},
   "outputs": [
    {
     "data": {
      "text/plain": [
       "array(['chevrolet chevelle malibu', 'buick skylark 320',\n",
       "       'plymouth satellite', 'amc rebel sst', 'ford torino',\n",
       "       'ford galaxie 500', 'chevrolet impala', 'plymouth fury iii',\n",
       "       'pontiac catalina', 'amc ambassador dpl', 'dodge challenger se',\n",
       "       \"plymouth 'cuda 340\", 'chevrolet monte carlo',\n",
       "       'buick estate wagon (sw)', 'toyota corona mark ii',\n",
       "       'plymouth duster', 'amc hornet', 'ford maverick', 'datsun pl510',\n",
       "       'volkswagen 1131 deluxe sedan', 'peugeot 504', 'audi 100 ls',\n",
       "       'saab 99e', 'bmw 2002', 'amc gremlin', 'ford f250', 'chevy c20',\n",
       "       'dodge d200', 'hi 1200d', 'chevrolet vega 2300', 'toyota corona',\n",
       "       'ford pinto', 'plymouth satellite custom', 'ford torino 500',\n",
       "       'amc matador', 'pontiac catalina brougham', 'dodge monaco (sw)',\n",
       "       'ford country squire (sw)', 'pontiac safari (sw)',\n",
       "       'amc hornet sportabout (sw)', 'chevrolet vega (sw)',\n",
       "       'pontiac firebird', 'ford mustang', 'mercury capri 2000',\n",
       "       'opel 1900', 'peugeot 304', 'fiat 124b', 'toyota corolla 1200',\n",
       "       'datsun 1200', 'volkswagen model 111', 'plymouth cricket',\n",
       "       'toyota corona hardtop', 'dodge colt hardtop', 'volkswagen type 3',\n",
       "       'chevrolet vega', 'ford pinto runabout', 'amc ambassador sst',\n",
       "       'mercury marquis', 'buick lesabre custom',\n",
       "       'oldsmobile delta 88 royale', 'chrysler newport royal',\n",
       "       'mazda rx2 coupe', 'amc matador (sw)',\n",
       "       'chevrolet chevelle concours (sw)', 'ford gran torino (sw)',\n",
       "       'plymouth satellite custom (sw)', 'volvo 145e (sw)',\n",
       "       'volkswagen 411 (sw)', 'peugeot 504 (sw)', 'renault 12 (sw)',\n",
       "       'ford pinto (sw)', 'datsun 510 (sw)',\n",
       "       'toyouta corona mark ii (sw)', 'dodge colt (sw)',\n",
       "       'toyota corolla 1600 (sw)', 'buick century 350',\n",
       "       'chevrolet malibu', 'ford gran torino', 'dodge coronet custom',\n",
       "       'mercury marquis brougham', 'chevrolet caprice classic',\n",
       "       'ford ltd', 'plymouth fury gran sedan',\n",
       "       'chrysler new yorker brougham', 'buick electra 225 custom',\n",
       "       'amc ambassador brougham', 'plymouth valiant',\n",
       "       'chevrolet nova custom', 'volkswagen super beetle', 'ford country',\n",
       "       'plymouth custom suburb', 'oldsmobile vista cruiser',\n",
       "       'toyota carina', 'datsun 610', 'maxda rx3', 'mercury capri v6',\n",
       "       'fiat 124 sport coupe', 'chevrolet monte carlo s',\n",
       "       'pontiac grand prix', 'fiat 128', 'opel manta', 'audi 100ls',\n",
       "       'volvo 144ea', 'dodge dart custom', 'saab 99le', 'toyota mark ii',\n",
       "       'oldsmobile omega', 'chevrolet nova', 'datsun b210',\n",
       "       'chevrolet chevelle malibu classic', 'plymouth satellite sebring',\n",
       "       'buick century luxus (sw)', 'dodge coronet custom (sw)',\n",
       "       'audi fox', 'volkswagen dasher', 'datsun 710', 'dodge colt',\n",
       "       'fiat 124 tc', 'honda civic', 'subaru', 'fiat x1.9',\n",
       "       'plymouth valiant custom', 'mercury monarch', 'chevrolet bel air',\n",
       "       'plymouth grand fury', 'buick century',\n",
       "       'chevroelt chevelle malibu', 'plymouth fury', 'buick skyhawk',\n",
       "       'chevrolet monza 2+2', 'ford mustang ii', 'toyota corolla',\n",
       "       'pontiac astro', 'volkswagen rabbit', 'amc pacer', 'volvo 244dl',\n",
       "       'honda civic cvcc', 'fiat 131', 'capri ii', 'renault 12tl',\n",
       "       'dodge coronet brougham', 'chevrolet chevette', 'chevrolet woody',\n",
       "       'vw rabbit', 'dodge aspen se', 'ford granada ghia',\n",
       "       'pontiac ventura sj', 'amc pacer d/l', 'datsun b-210', 'volvo 245',\n",
       "       'plymouth volare premier v8', 'mercedes-benz 280s',\n",
       "       'cadillac seville', 'chevy c10', 'ford f108', 'dodge d100',\n",
       "       'honda accord cvcc', 'buick opel isuzu deluxe', 'renault 5 gtl',\n",
       "       'plymouth arrow gs', 'datsun f-10 hatchback',\n",
       "       'oldsmobile cutlass supreme', 'dodge monaco brougham',\n",
       "       'mercury cougar brougham', 'chevrolet concours', 'buick skylark',\n",
       "       'plymouth volare custom', 'ford granada', 'pontiac grand prix lj',\n",
       "       'chevrolet monte carlo landau', 'chrysler cordoba',\n",
       "       'ford thunderbird', 'volkswagen rabbit custom',\n",
       "       'pontiac sunbird coupe', 'toyota corolla liftback',\n",
       "       'ford mustang ii 2+2', 'dodge colt m/m', 'subaru dl', 'datsun 810',\n",
       "       'bmw 320i', 'mazda rx-4', 'volkswagen rabbit custom diesel',\n",
       "       'ford fiesta', 'mazda glc deluxe', 'datsun b210 gx',\n",
       "       'oldsmobile cutlass salon brougham', 'dodge diplomat',\n",
       "       'mercury monarch ghia', 'pontiac phoenix lj',\n",
       "       'ford fairmont (auto)', 'ford fairmont (man)', 'plymouth volare',\n",
       "       'amc concord', 'buick century special', 'mercury zephyr',\n",
       "       'dodge aspen', 'amc concord d/l',\n",
       "       'buick regal sport coupe (turbo)', 'ford futura',\n",
       "       'dodge magnum xe', 'datsun 510', 'dodge omni',\n",
       "       'toyota celica gt liftback', 'plymouth sapporo',\n",
       "       'oldsmobile starfire sx', 'datsun 200-sx', 'audi 5000',\n",
       "       'volvo 264gl', 'saab 99gle', 'peugeot 604sl',\n",
       "       'volkswagen scirocco', 'honda accord lx', 'pontiac lemans v6',\n",
       "       'mercury zephyr 6', 'ford fairmont 4', 'amc concord dl 6',\n",
       "       'dodge aspen 6', 'ford ltd landau', 'mercury grand marquis',\n",
       "       'dodge st. regis', 'chevrolet malibu classic (sw)',\n",
       "       'chrysler lebaron town @ country (sw)', 'vw rabbit custom',\n",
       "       'maxda glc deluxe', 'dodge colt hatchback custom', 'amc spirit dl',\n",
       "       'mercedes benz 300d', 'cadillac eldorado', 'plymouth horizon',\n",
       "       'plymouth horizon tc3', 'datsun 210', 'fiat strada custom',\n",
       "       'buick skylark limited', 'chevrolet citation',\n",
       "       'oldsmobile omega brougham', 'pontiac phoenix',\n",
       "       'toyota corolla tercel', 'datsun 310', 'ford fairmont',\n",
       "       'audi 4000', 'toyota corona liftback', 'mazda 626',\n",
       "       'datsun 510 hatchback', 'mazda glc', 'vw rabbit c (diesel)',\n",
       "       'vw dasher (diesel)', 'audi 5000s (diesel)', 'mercedes-benz 240d',\n",
       "       'honda civic 1500 gl', 'renault lecar deluxe', 'vokswagen rabbit',\n",
       "       'datsun 280-zx', 'mazda rx-7 gs', 'triumph tr7 coupe',\n",
       "       'ford mustang cobra', 'honda accord', 'plymouth reliant',\n",
       "       'dodge aries wagon (sw)', 'toyota starlet', 'plymouth champ',\n",
       "       'honda civic 1300', 'datsun 210 mpg', 'toyota tercel',\n",
       "       'mazda glc 4', 'plymouth horizon 4', 'ford escort 4w',\n",
       "       'ford escort 2h', 'volkswagen jetta', 'renault 18i',\n",
       "       'honda prelude', 'datsun 200sx', 'peugeot 505s turbo diesel',\n",
       "       'volvo diesel', 'toyota cressida', 'datsun 810 maxima',\n",
       "       'oldsmobile cutlass ls', 'ford granada gl',\n",
       "       'chrysler lebaron salon', 'chevrolet cavalier',\n",
       "       'chevrolet cavalier wagon', 'chevrolet cavalier 2-door',\n",
       "       'pontiac j2000 se hatchback', 'dodge aries se',\n",
       "       'ford fairmont futura', 'amc concord dl', 'volkswagen rabbit l',\n",
       "       'mazda glc custom l', 'mazda glc custom', 'plymouth horizon miser',\n",
       "       'mercury lynx l', 'nissan stanza xe', 'honda civic (auto)',\n",
       "       'datsun 310 gx', 'buick century limited',\n",
       "       'oldsmobile cutlass ciera (diesel)', 'chrysler lebaron medallion',\n",
       "       'ford granada l', 'toyota celica gt', 'dodge charger 2.2',\n",
       "       'chevrolet camaro', 'ford mustang gl', 'vw pickup',\n",
       "       'dodge rampage', 'ford ranger', 'chevy s-10'], dtype=object)"
      ]
     },
     "execution_count": 495,
     "metadata": {},
     "output_type": "execute_result"
    }
   ],
   "source": [
    "df=df = pd.read_csv(\"D:\\\\ICT Academy\\\\DataScience\\\\VS\\\\auto-mpg.csv\")\n",
    "df[\"car name\"].unique()"
   ]
  },
  {
   "cell_type": "markdown",
   "id": "1e4c1e3a",
   "metadata": {},
   "source": [
    "##  Count the occurrences of unique values within a series/column:"
   ]
  },
  {
   "cell_type": "code",
   "execution_count": 499,
   "id": "7bfd7d89-5ce4-4547-9e25-f6fdf66ccb40",
   "metadata": {},
   "outputs": [
    {
     "data": {
      "text/plain": [
       "car name\n",
       "ford pinto             6\n",
       "toyota corolla         5\n",
       "amc matador            5\n",
       "ford maverick          5\n",
       "chevrolet chevette     4\n",
       "                      ..\n",
       "chevrolet monza 2+2    1\n",
       "ford mustang ii        1\n",
       "pontiac astro          1\n",
       "amc pacer              1\n",
       "chevy s-10             1\n",
       "Name: count, Length: 305, dtype: int64"
      ]
     },
     "execution_count": 499,
     "metadata": {},
     "output_type": "execute_result"
    }
   ],
   "source": [
    "df = pd.read_csv(\"D:\\\\ICT Academy\\\\DataScience\\\\VS\\\\auto-mpg.csv\")\n",
    "df[\"car name\"].value_counts() # Classification of classes"
   ]
  },
  {
   "cell_type": "markdown",
   "id": "a2fa38b6",
   "metadata": {},
   "source": [
    "## Count the occurance of unique values within a row:"
   ]
  },
  {
   "cell_type": "markdown",
   "id": "8d59a083",
   "metadata": {},
   "source": [
    "#### Method 1: Using set()"
   ]
  },
  {
   "cell_type": "code",
   "execution_count": 387,
   "id": "3fd42a41",
   "metadata": {},
   "outputs": [
    {
     "data": {
      "text/plain": [
       "9"
      ]
     },
     "execution_count": 387,
     "metadata": {},
     "output_type": "execute_result"
    }
   ],
   "source": [
    "row_data = df.iloc[0]  # Assuming you want to analyze the first row\n",
    "unique_values = set(row_data)\n",
    "count_unique_values = len(unique_values)\n",
    "count_unique_values"
   ]
  },
  {
   "cell_type": "markdown",
   "id": "854e9e9a",
   "metadata": {},
   "source": [
    "#### Method 2: Using value_counts() on a Transposed DataFrame"
   ]
  },
  {
   "cell_type": "code",
   "execution_count": 390,
   "id": "51b25ff6",
   "metadata": {},
   "outputs": [
    {
     "data": {
      "text/plain": [
       "weight\n",
       "1985    4\n",
       "2130    4\n",
       "2155    3\n",
       "2265    3\n",
       "2300    3\n",
       "       ..\n",
       "4376    1\n",
       "4382    1\n",
       "4732    1\n",
       "2264    1\n",
       "3449    1\n",
       "Name: count, Length: 351, dtype: int64"
      ]
     },
     "execution_count": 390,
     "metadata": {},
     "output_type": "execute_result"
    }
   ],
   "source": [
    "row_counts = df.transpose().iloc[4].value_counts()\n",
    "row_counts"
   ]
  },
  {
   "cell_type": "markdown",
   "id": "314f275c",
   "metadata": {},
   "source": [
    "## Remove specific rows or columns from a DataFrame.\n",
    "#### labels: A single label or a list-like object of labels to drop.\n",
    "#### axis: Specifies whether to drop labels from the index (0 or 'index') or columns (1 or 'columns').\n",
    "#### inplace: If True, modifies the DataFrame in-place, otherwise returns a new DataFrame with the dropped labels.\n",
    "#### errors: Controls how errors are handled. 'ignore' suppresses errors, while 'raise' (default) raises a KeyError for missing labels."
   ]
  },
  {
   "cell_type": "markdown",
   "id": "fcf5a4ef",
   "metadata": {},
   "source": [
    "##### Drop column:"
   ]
  },
  {
   "cell_type": "code",
   "execution_count": 395,
   "id": "3c70e7c2-66f6-4ad7-8a33-760ccdcf9189",
   "metadata": {},
   "outputs": [
    {
     "data": {
      "text/html": [
       "<div>\n",
       "<style scoped>\n",
       "    .dataframe tbody tr th:only-of-type {\n",
       "        vertical-align: middle;\n",
       "    }\n",
       "\n",
       "    .dataframe tbody tr th {\n",
       "        vertical-align: top;\n",
       "    }\n",
       "\n",
       "    .dataframe thead th {\n",
       "        text-align: right;\n",
       "    }\n",
       "</style>\n",
       "<table border=\"1\" class=\"dataframe\">\n",
       "  <thead>\n",
       "    <tr style=\"text-align: right;\">\n",
       "      <th></th>\n",
       "      <th>mpg</th>\n",
       "      <th>cylinders</th>\n",
       "      <th>displacement</th>\n",
       "      <th>horsepower</th>\n",
       "      <th>weight</th>\n",
       "      <th>acceleration</th>\n",
       "      <th>model year</th>\n",
       "    </tr>\n",
       "  </thead>\n",
       "  <tbody>\n",
       "    <tr>\n",
       "      <th>0</th>\n",
       "      <td>18.0</td>\n",
       "      <td>8</td>\n",
       "      <td>307.0</td>\n",
       "      <td>130</td>\n",
       "      <td>3504</td>\n",
       "      <td>12.0</td>\n",
       "      <td>70</td>\n",
       "    </tr>\n",
       "    <tr>\n",
       "      <th>1</th>\n",
       "      <td>15.0</td>\n",
       "      <td>8</td>\n",
       "      <td>350.0</td>\n",
       "      <td>165</td>\n",
       "      <td>3693</td>\n",
       "      <td>11.5</td>\n",
       "      <td>70</td>\n",
       "    </tr>\n",
       "    <tr>\n",
       "      <th>2</th>\n",
       "      <td>18.0</td>\n",
       "      <td>8</td>\n",
       "      <td>318.0</td>\n",
       "      <td>150</td>\n",
       "      <td>3436</td>\n",
       "      <td>11.0</td>\n",
       "      <td>70</td>\n",
       "    </tr>\n",
       "    <tr>\n",
       "      <th>3</th>\n",
       "      <td>16.0</td>\n",
       "      <td>8</td>\n",
       "      <td>304.0</td>\n",
       "      <td>150</td>\n",
       "      <td>3433</td>\n",
       "      <td>12.0</td>\n",
       "      <td>70</td>\n",
       "    </tr>\n",
       "    <tr>\n",
       "      <th>4</th>\n",
       "      <td>17.0</td>\n",
       "      <td>8</td>\n",
       "      <td>302.0</td>\n",
       "      <td>140</td>\n",
       "      <td>3449</td>\n",
       "      <td>10.5</td>\n",
       "      <td>70</td>\n",
       "    </tr>\n",
       "    <tr>\n",
       "      <th>...</th>\n",
       "      <td>...</td>\n",
       "      <td>...</td>\n",
       "      <td>...</td>\n",
       "      <td>...</td>\n",
       "      <td>...</td>\n",
       "      <td>...</td>\n",
       "      <td>...</td>\n",
       "    </tr>\n",
       "    <tr>\n",
       "      <th>393</th>\n",
       "      <td>27.0</td>\n",
       "      <td>4</td>\n",
       "      <td>140.0</td>\n",
       "      <td>86</td>\n",
       "      <td>2790</td>\n",
       "      <td>15.6</td>\n",
       "      <td>82</td>\n",
       "    </tr>\n",
       "    <tr>\n",
       "      <th>394</th>\n",
       "      <td>44.0</td>\n",
       "      <td>4</td>\n",
       "      <td>97.0</td>\n",
       "      <td>52</td>\n",
       "      <td>2130</td>\n",
       "      <td>24.6</td>\n",
       "      <td>82</td>\n",
       "    </tr>\n",
       "    <tr>\n",
       "      <th>395</th>\n",
       "      <td>32.0</td>\n",
       "      <td>4</td>\n",
       "      <td>135.0</td>\n",
       "      <td>84</td>\n",
       "      <td>2295</td>\n",
       "      <td>11.6</td>\n",
       "      <td>82</td>\n",
       "    </tr>\n",
       "    <tr>\n",
       "      <th>396</th>\n",
       "      <td>28.0</td>\n",
       "      <td>4</td>\n",
       "      <td>120.0</td>\n",
       "      <td>79</td>\n",
       "      <td>2625</td>\n",
       "      <td>18.6</td>\n",
       "      <td>82</td>\n",
       "    </tr>\n",
       "    <tr>\n",
       "      <th>397</th>\n",
       "      <td>31.0</td>\n",
       "      <td>4</td>\n",
       "      <td>119.0</td>\n",
       "      <td>82</td>\n",
       "      <td>2720</td>\n",
       "      <td>19.4</td>\n",
       "      <td>82</td>\n",
       "    </tr>\n",
       "  </tbody>\n",
       "</table>\n",
       "<p>398 rows × 7 columns</p>\n",
       "</div>"
      ],
      "text/plain": [
       "      mpg  cylinders  displacement horsepower  weight  acceleration  \\\n",
       "0    18.0          8         307.0        130    3504          12.0   \n",
       "1    15.0          8         350.0        165    3693          11.5   \n",
       "2    18.0          8         318.0        150    3436          11.0   \n",
       "3    16.0          8         304.0        150    3433          12.0   \n",
       "4    17.0          8         302.0        140    3449          10.5   \n",
       "..    ...        ...           ...        ...     ...           ...   \n",
       "393  27.0          4         140.0         86    2790          15.6   \n",
       "394  44.0          4          97.0         52    2130          24.6   \n",
       "395  32.0          4         135.0         84    2295          11.6   \n",
       "396  28.0          4         120.0         79    2625          18.6   \n",
       "397  31.0          4         119.0         82    2720          19.4   \n",
       "\n",
       "     model year  \n",
       "0            70  \n",
       "1            70  \n",
       "2            70  \n",
       "3            70  \n",
       "4            70  \n",
       "..          ...  \n",
       "393          82  \n",
       "394          82  \n",
       "395          82  \n",
       "396          82  \n",
       "397          82  \n",
       "\n",
       "[398 rows x 7 columns]"
      ]
     },
     "execution_count": 395,
     "metadata": {},
     "output_type": "execute_result"
    }
   ],
   "source": [
    "car_new=df.drop([\"origin\",\"car name\"],axis=1) # Drop columns origin and car name\n",
    "car_new"
   ]
  },
  {
   "cell_type": "markdown",
   "id": "78a2490a",
   "metadata": {},
   "source": [
    "##### Drop row"
   ]
  },
  {
   "cell_type": "code",
   "execution_count": 399,
   "id": "5b0062a7",
   "metadata": {},
   "outputs": [
    {
     "data": {
      "text/html": [
       "<div>\n",
       "<style scoped>\n",
       "    .dataframe tbody tr th:only-of-type {\n",
       "        vertical-align: middle;\n",
       "    }\n",
       "\n",
       "    .dataframe tbody tr th {\n",
       "        vertical-align: top;\n",
       "    }\n",
       "\n",
       "    .dataframe thead th {\n",
       "        text-align: right;\n",
       "    }\n",
       "</style>\n",
       "<table border=\"1\" class=\"dataframe\">\n",
       "  <thead>\n",
       "    <tr style=\"text-align: right;\">\n",
       "      <th></th>\n",
       "      <th>mpg</th>\n",
       "      <th>cylinders</th>\n",
       "      <th>displacement</th>\n",
       "      <th>horsepower</th>\n",
       "      <th>weight</th>\n",
       "      <th>acceleration</th>\n",
       "      <th>model year</th>\n",
       "      <th>origin</th>\n",
       "      <th>car name</th>\n",
       "    </tr>\n",
       "  </thead>\n",
       "  <tbody>\n",
       "    <tr>\n",
       "      <th>0</th>\n",
       "      <td>18.0</td>\n",
       "      <td>8</td>\n",
       "      <td>307.0</td>\n",
       "      <td>130</td>\n",
       "      <td>3504</td>\n",
       "      <td>12.0</td>\n",
       "      <td>70</td>\n",
       "      <td>1</td>\n",
       "      <td>chevrolet chevelle malibu</td>\n",
       "    </tr>\n",
       "    <tr>\n",
       "      <th>1</th>\n",
       "      <td>15.0</td>\n",
       "      <td>8</td>\n",
       "      <td>350.0</td>\n",
       "      <td>165</td>\n",
       "      <td>3693</td>\n",
       "      <td>11.5</td>\n",
       "      <td>70</td>\n",
       "      <td>1</td>\n",
       "      <td>buick skylark 320</td>\n",
       "    </tr>\n",
       "    <tr>\n",
       "      <th>2</th>\n",
       "      <td>18.0</td>\n",
       "      <td>8</td>\n",
       "      <td>318.0</td>\n",
       "      <td>150</td>\n",
       "      <td>3436</td>\n",
       "      <td>11.0</td>\n",
       "      <td>70</td>\n",
       "      <td>1</td>\n",
       "      <td>plymouth satellite</td>\n",
       "    </tr>\n",
       "    <tr>\n",
       "      <th>5</th>\n",
       "      <td>15.0</td>\n",
       "      <td>8</td>\n",
       "      <td>429.0</td>\n",
       "      <td>198</td>\n",
       "      <td>4341</td>\n",
       "      <td>10.0</td>\n",
       "      <td>70</td>\n",
       "      <td>1</td>\n",
       "      <td>ford galaxie 500</td>\n",
       "    </tr>\n",
       "    <tr>\n",
       "      <th>6</th>\n",
       "      <td>14.0</td>\n",
       "      <td>8</td>\n",
       "      <td>454.0</td>\n",
       "      <td>220</td>\n",
       "      <td>4354</td>\n",
       "      <td>9.0</td>\n",
       "      <td>70</td>\n",
       "      <td>1</td>\n",
       "      <td>chevrolet impala</td>\n",
       "    </tr>\n",
       "    <tr>\n",
       "      <th>...</th>\n",
       "      <td>...</td>\n",
       "      <td>...</td>\n",
       "      <td>...</td>\n",
       "      <td>...</td>\n",
       "      <td>...</td>\n",
       "      <td>...</td>\n",
       "      <td>...</td>\n",
       "      <td>...</td>\n",
       "      <td>...</td>\n",
       "    </tr>\n",
       "    <tr>\n",
       "      <th>393</th>\n",
       "      <td>27.0</td>\n",
       "      <td>4</td>\n",
       "      <td>140.0</td>\n",
       "      <td>86</td>\n",
       "      <td>2790</td>\n",
       "      <td>15.6</td>\n",
       "      <td>82</td>\n",
       "      <td>1</td>\n",
       "      <td>ford mustang gl</td>\n",
       "    </tr>\n",
       "    <tr>\n",
       "      <th>394</th>\n",
       "      <td>44.0</td>\n",
       "      <td>4</td>\n",
       "      <td>97.0</td>\n",
       "      <td>52</td>\n",
       "      <td>2130</td>\n",
       "      <td>24.6</td>\n",
       "      <td>82</td>\n",
       "      <td>2</td>\n",
       "      <td>vw pickup</td>\n",
       "    </tr>\n",
       "    <tr>\n",
       "      <th>395</th>\n",
       "      <td>32.0</td>\n",
       "      <td>4</td>\n",
       "      <td>135.0</td>\n",
       "      <td>84</td>\n",
       "      <td>2295</td>\n",
       "      <td>11.6</td>\n",
       "      <td>82</td>\n",
       "      <td>1</td>\n",
       "      <td>dodge rampage</td>\n",
       "    </tr>\n",
       "    <tr>\n",
       "      <th>396</th>\n",
       "      <td>28.0</td>\n",
       "      <td>4</td>\n",
       "      <td>120.0</td>\n",
       "      <td>79</td>\n",
       "      <td>2625</td>\n",
       "      <td>18.6</td>\n",
       "      <td>82</td>\n",
       "      <td>1</td>\n",
       "      <td>ford ranger</td>\n",
       "    </tr>\n",
       "    <tr>\n",
       "      <th>397</th>\n",
       "      <td>31.0</td>\n",
       "      <td>4</td>\n",
       "      <td>119.0</td>\n",
       "      <td>82</td>\n",
       "      <td>2720</td>\n",
       "      <td>19.4</td>\n",
       "      <td>82</td>\n",
       "      <td>1</td>\n",
       "      <td>chevy s-10</td>\n",
       "    </tr>\n",
       "  </tbody>\n",
       "</table>\n",
       "<p>396 rows × 9 columns</p>\n",
       "</div>"
      ],
      "text/plain": [
       "      mpg  cylinders  displacement horsepower  weight  acceleration  \\\n",
       "0    18.0          8         307.0        130    3504          12.0   \n",
       "1    15.0          8         350.0        165    3693          11.5   \n",
       "2    18.0          8         318.0        150    3436          11.0   \n",
       "5    15.0          8         429.0        198    4341          10.0   \n",
       "6    14.0          8         454.0        220    4354           9.0   \n",
       "..    ...        ...           ...        ...     ...           ...   \n",
       "393  27.0          4         140.0         86    2790          15.6   \n",
       "394  44.0          4          97.0         52    2130          24.6   \n",
       "395  32.0          4         135.0         84    2295          11.6   \n",
       "396  28.0          4         120.0         79    2625          18.6   \n",
       "397  31.0          4         119.0         82    2720          19.4   \n",
       "\n",
       "     model year  origin                   car name  \n",
       "0            70       1  chevrolet chevelle malibu  \n",
       "1            70       1          buick skylark 320  \n",
       "2            70       1         plymouth satellite  \n",
       "5            70       1           ford galaxie 500  \n",
       "6            70       1           chevrolet impala  \n",
       "..          ...     ...                        ...  \n",
       "393          82       1            ford mustang gl  \n",
       "394          82       2                  vw pickup  \n",
       "395          82       1              dodge rampage  \n",
       "396          82       1                ford ranger  \n",
       "397          82       1                 chevy s-10  \n",
       "\n",
       "[396 rows x 9 columns]"
      ]
     },
     "execution_count": 399,
     "metadata": {},
     "output_type": "execute_result"
    }
   ],
   "source": [
    "df.drop(index=[3, 4])  # Drop rows with indices 0 and 2"
   ]
  },
  {
   "cell_type": "markdown",
   "id": "55bd69cf",
   "metadata": {},
   "source": [
    "## Generate descriptive statistics of a DataFrame. It provides a summary of the central tendency, dispersion, and shape of  a dataset's distribution, excluding NaN values.   \n"
   ]
  },
  {
   "cell_type": "code",
   "execution_count": 400,
   "id": "b2df91c6-246c-4166-bea7-0a436ea1212a",
   "metadata": {},
   "outputs": [
    {
     "data": {
      "text/html": [
       "<div>\n",
       "<style scoped>\n",
       "    .dataframe tbody tr th:only-of-type {\n",
       "        vertical-align: middle;\n",
       "    }\n",
       "\n",
       "    .dataframe tbody tr th {\n",
       "        vertical-align: top;\n",
       "    }\n",
       "\n",
       "    .dataframe thead th {\n",
       "        text-align: right;\n",
       "    }\n",
       "</style>\n",
       "<table border=\"1\" class=\"dataframe\">\n",
       "  <thead>\n",
       "    <tr style=\"text-align: right;\">\n",
       "      <th></th>\n",
       "      <th>mpg</th>\n",
       "      <th>cylinders</th>\n",
       "      <th>displacement</th>\n",
       "      <th>weight</th>\n",
       "      <th>acceleration</th>\n",
       "      <th>model year</th>\n",
       "    </tr>\n",
       "  </thead>\n",
       "  <tbody>\n",
       "    <tr>\n",
       "      <th>count</th>\n",
       "      <td>398.000000</td>\n",
       "      <td>398.000000</td>\n",
       "      <td>398.000000</td>\n",
       "      <td>398.000000</td>\n",
       "      <td>398.000000</td>\n",
       "      <td>398.000000</td>\n",
       "    </tr>\n",
       "    <tr>\n",
       "      <th>mean</th>\n",
       "      <td>23.514573</td>\n",
       "      <td>5.454774</td>\n",
       "      <td>193.425879</td>\n",
       "      <td>2970.424623</td>\n",
       "      <td>15.568090</td>\n",
       "      <td>76.010050</td>\n",
       "    </tr>\n",
       "    <tr>\n",
       "      <th>std</th>\n",
       "      <td>7.815984</td>\n",
       "      <td>1.701004</td>\n",
       "      <td>104.269838</td>\n",
       "      <td>846.841774</td>\n",
       "      <td>2.757689</td>\n",
       "      <td>3.697627</td>\n",
       "    </tr>\n",
       "    <tr>\n",
       "      <th>min</th>\n",
       "      <td>9.000000</td>\n",
       "      <td>3.000000</td>\n",
       "      <td>68.000000</td>\n",
       "      <td>1613.000000</td>\n",
       "      <td>8.000000</td>\n",
       "      <td>70.000000</td>\n",
       "    </tr>\n",
       "    <tr>\n",
       "      <th>25%</th>\n",
       "      <td>17.500000</td>\n",
       "      <td>4.000000</td>\n",
       "      <td>104.250000</td>\n",
       "      <td>2223.750000</td>\n",
       "      <td>13.825000</td>\n",
       "      <td>73.000000</td>\n",
       "    </tr>\n",
       "    <tr>\n",
       "      <th>50%</th>\n",
       "      <td>23.000000</td>\n",
       "      <td>4.000000</td>\n",
       "      <td>148.500000</td>\n",
       "      <td>2803.500000</td>\n",
       "      <td>15.500000</td>\n",
       "      <td>76.000000</td>\n",
       "    </tr>\n",
       "    <tr>\n",
       "      <th>75%</th>\n",
       "      <td>29.000000</td>\n",
       "      <td>8.000000</td>\n",
       "      <td>262.000000</td>\n",
       "      <td>3608.000000</td>\n",
       "      <td>17.175000</td>\n",
       "      <td>79.000000</td>\n",
       "    </tr>\n",
       "    <tr>\n",
       "      <th>max</th>\n",
       "      <td>46.600000</td>\n",
       "      <td>8.000000</td>\n",
       "      <td>455.000000</td>\n",
       "      <td>5140.000000</td>\n",
       "      <td>24.800000</td>\n",
       "      <td>82.000000</td>\n",
       "    </tr>\n",
       "  </tbody>\n",
       "</table>\n",
       "</div>"
      ],
      "text/plain": [
       "              mpg   cylinders  displacement       weight  acceleration  \\\n",
       "count  398.000000  398.000000    398.000000   398.000000    398.000000   \n",
       "mean    23.514573    5.454774    193.425879  2970.424623     15.568090   \n",
       "std      7.815984    1.701004    104.269838   846.841774      2.757689   \n",
       "min      9.000000    3.000000     68.000000  1613.000000      8.000000   \n",
       "25%     17.500000    4.000000    104.250000  2223.750000     13.825000   \n",
       "50%     23.000000    4.000000    148.500000  2803.500000     15.500000   \n",
       "75%     29.000000    8.000000    262.000000  3608.000000     17.175000   \n",
       "max     46.600000    8.000000    455.000000  5140.000000     24.800000   \n",
       "\n",
       "       model year  \n",
       "count  398.000000  \n",
       "mean    76.010050  \n",
       "std      3.697627  \n",
       "min     70.000000  \n",
       "25%     73.000000  \n",
       "50%     76.000000  \n",
       "75%     79.000000  \n",
       "max     82.000000  "
      ]
     },
     "execution_count": 400,
     "metadata": {},
     "output_type": "execute_result"
    }
   ],
   "source": [
    "car_new.describe()"
   ]
  }
 ],
 "metadata": {
  "kernelspec": {
   "display_name": "Python 3",
   "language": "python",
   "name": "python3"
  },
  "language_info": {
   "codemirror_mode": {
    "name": "ipython",
    "version": 3
   },
   "file_extension": ".py",
   "mimetype": "text/x-python",
   "name": "python",
   "nbconvert_exporter": "python",
   "pygments_lexer": "ipython3",
   "version": "3.12.6"
  }
 },
 "nbformat": 4,
 "nbformat_minor": 5
}
